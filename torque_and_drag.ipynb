{
 "cells": [
  {
   "cell_type": "code",
   "execution_count": 1,
   "metadata": {},
   "outputs": [
    {
     "name": "stderr",
     "output_type": "stream",
     "text": [
      "C:\\Users\\gaoqian\\AppData\\Local\\Temp\\ipykernel_19672\\3359245035.py:3: DeprecationWarning: \n",
      "Pyarrow will become a required dependency of pandas in the next major release of pandas (pandas 3.0),\n",
      "(to allow more performant data types, such as the Arrow string type, and better interoperability with other libraries)\n",
      "but was not found to be installed on your system.\n",
      "If this would cause problems for you,\n",
      "please provide us feedback at https://github.com/pandas-dev/pandas/issues/54466\n",
      "        \n",
      "  import pandas as pd\n"
     ]
    }
   ],
   "source": [
    "# Import python libraries\n",
    "import numpy as np\n",
    "import pandas as pd\n",
    "import welleng as we\n",
    "import plotly.graph_objects as go\n",
    "from plotly.offline import plot"
   ]
  },
  {
   "cell_type": "code",
   "execution_count": 21,
   "metadata": {},
   "outputs": [],
   "source": [
    "ureg = we.units.ureg\n",
    "\n",
    "node0 = we.node.Node(pos=[0, 0, 0], md=0, inc=0, azi=0)\n",
    "node1 = we.node.Node(md=731.5, inc=0, azi=0)\n",
    "node2 = we.node.Node(md=1280, inc=44, azi=0)\n",
    "node3 = we.node.Node(md=3718, inc=44, azi=0)\n",
    "\n",
    "# create an empty list\n",
    "connectors = []\n",
    "\n",
    "# append the first connector from the first to the second node\n",
    "connectors.append(\n",
    "    we.connector.Connector(node0, node1)\n",
    ")\n",
    "\n",
    "# us the newly created node in the connector list and connect it to the third node\n",
    "connectors.append(\n",
    "    we.connector.Connector(connectors[-1].node_end, node2, dls_design=2)\n",
    ")\n",
    "\n",
    "# similarly connector the current last node in the list to the final node\n",
    "connectors.append(\n",
    "    we.connector.Connector(connectors[-1].node_end, node3, dls_design=4)\n",
    ")\n",
    "\n",
    "# use the list of connectors as input to create a Survey instance\n",
    "survey_example_2 = we.survey.from_connections(\n",
    "    connectors\n",
    ").interpolate_survey(step=30)\n",
    "\n",
    "# Create the figure\n",
    "ureg = we.units.ureg\n",
    "\n",
    "node0 = we.node.Node(pos=[0, 0, 0], md=0, inc=0, azi=0)\n",
    "node1 = we.node.Node(md=731.5, inc=0, azi=0)\n",
    "node2 = we.node.Node(md=1280, inc=44, azi=0)\n",
    "node3 = we.node.Node(md=3718, inc=44, azi=0)\n",
    "\n",
    "# create an empty list\n",
    "connectors = []\n",
    "\n",
    "# append the first connector from the first to the second node\n",
    "connectors.append(\n",
    "    we.connector.Connector(node0, node1)\n",
    ")\n",
    "\n",
    "# us the newly created node in the connector list and connect it to the third node\n",
    "connectors.append(\n",
    "    we.connector.Connector(connectors[-1].node_end, node2, dls_design=2)\n",
    ")\n",
    "\n",
    "# similarly connector the current last node in the list to the final node\n",
    "connectors.append(\n",
    "    we.connector.Connector(connectors[-1].node_end, node3, dls_design=4)\n",
    ")\n",
    "\n",
    "# use the list of connectors as input to create a Survey instance\n",
    "survey_example_2 = we.survey.from_connections(\n",
    "    connectors\n",
    ").interpolate_survey(step=30)\n",
    "\n"
   ]
  },
  {
   "cell_type": "code",
   "execution_count": 22,
   "metadata": {},
   "outputs": [
    {
     "data": {
      "application/vnd.plotly.v1+json": {
       "config": {
        "plotlyServerURL": "https://plot.ly"
       },
       "data": [
        {
         "marker": {
          "color": "blue",
          "size": 2
         },
         "mode": "markers",
         "name": "Survey Points",
         "type": "scatter3d",
         "x": [
          0,
          0,
          0,
          0,
          0,
          0,
          0,
          0,
          0,
          0,
          0,
          0,
          0,
          0,
          0,
          0,
          0,
          0,
          0,
          0,
          0,
          0,
          0,
          0,
          0,
          0,
          0,
          0,
          0,
          0,
          0,
          0,
          0,
          0,
          0,
          0,
          0,
          0,
          0,
          0,
          0,
          0,
          0,
          0,
          0,
          0,
          0,
          0,
          0,
          0,
          0,
          0,
          0,
          0,
          0,
          0,
          0,
          0,
          0,
          0,
          0,
          0,
          0,
          0,
          0,
          0,
          0,
          0,
          0,
          0,
          0,
          0,
          0,
          0,
          0,
          0,
          0,
          0,
          0,
          0,
          0,
          0,
          0,
          0,
          0,
          0,
          0,
          0,
          0,
          0,
          0,
          0,
          0,
          0,
          0,
          0,
          0,
          0,
          0,
          0,
          0,
          0,
          0,
          0,
          0,
          0,
          0,
          0,
          0,
          0,
          0,
          0,
          0,
          0,
          0,
          0,
          0,
          0,
          0,
          0,
          0,
          0,
          0,
          0,
          0,
          0,
          0
         ],
         "y": [
          0,
          0,
          0,
          0,
          0,
          0,
          0,
          0,
          0,
          0,
          0,
          0,
          0,
          0,
          0,
          0,
          0,
          0,
          0,
          0,
          0,
          0,
          0,
          0,
          0,
          0,
          0.23957560465070532,
          1.646038585546125,
          4.309486426230481,
          8.225220946394655,
          13.386334998642194,
          19.783724652329894,
          27.406105252417163,
          36.24003132499725,
          46.26992029439795,
          57.47807997001621,
          69.8447397544012,
          83.34808551753653,
          97.9642980758052,
          113.66759520776242,
          130.43027713260278,
          148.22277537110008,
          167.01370490283185,
          186.76991952768574,
          200.4598576696597,
          207.40644137424968,
          228.2461924880196,
          249.08594360178952,
          269.9256947155594,
          290.76544582932934,
          311.60519694309926,
          332.4449480568692,
          353.2846991706391,
          374.124450284409,
          394.96420139817894,
          415.80395251194886,
          436.6437036257188,
          457.4834547394887,
          478.3232058532586,
          499.16295696702855,
          520.0027080807985,
          540.8424591945684,
          561.6822103083383,
          582.5219614221082,
          603.3617125358782,
          624.2014636496481,
          645.041214763418,
          665.8809658771879,
          686.7207169909578,
          707.5604681047278,
          728.4002192184977,
          749.2399703322676,
          770.0797214460375,
          790.9194725598074,
          811.7592236735774,
          832.5989747873473,
          853.4387259011172,
          874.2784770148871,
          895.118228128657,
          915.957979242427,
          936.7977303561969,
          957.6374814699668,
          978.4772325837367,
          999.3169836975067,
          1020.1567348112766,
          1040.9964859250465,
          1061.8362370388163,
          1082.6759881525861,
          1103.515739266356,
          1124.3554903801257,
          1145.1952414938955,
          1166.0349926076653,
          1186.8747437214352,
          1207.714494835205,
          1228.5542459489748,
          1249.3939970627446,
          1270.2337481765144,
          1291.0734992902842,
          1311.913250404054,
          1332.7530015178238,
          1353.5927526315936,
          1374.4325037453634,
          1395.2722548591332,
          1416.112005972903,
          1436.9517570866728,
          1457.7915082004426,
          1478.6312593142125,
          1499.4710104279823,
          1520.310761541752,
          1541.1505126555219,
          1561.9902637692917,
          1582.8300148830615,
          1603.6697659968313,
          1624.509517110601,
          1645.349268224371,
          1666.1890193381407,
          1687.0287704519105,
          1707.8685215656803,
          1728.7082726794501,
          1749.54802379322,
          1770.3877749069898,
          1791.2275260207596,
          1812.0672771345294,
          1832.9070282482992,
          1853.746779362069,
          1874.5865304758388,
          1894.0369648486908
         ],
         "z": [
          0,
          30,
          60,
          90,
          120,
          150,
          180,
          210,
          240,
          270,
          300,
          330,
          360,
          390,
          420,
          450,
          480,
          510,
          540,
          570,
          600,
          630,
          660,
          690,
          720,
          731.5,
          749.9979314968291,
          779.9627367557041,
          809.8420563249125,
          839.5831846741619,
          869.1336600351204,
          898.4413569411862,
          927.454578174037,
          956.1221459547735,
          984.3934922187989,
          1012.218747815195,
          1039.5488304732517,
          1066.335531380981,
          1092.5316002228976,
          1118.0908285270618,
          1142.968131174366,
          1167.1196259262856,
          1190.5027108308147,
          1213.076139370043,
          1227.6555583558768,
          1234.8489563592634,
          1256.429150369423,
          1278.0093443795827,
          1299.5895383897423,
          1321.169732399902,
          1342.7499264100616,
          1364.3301204202212,
          1385.9103144303808,
          1407.4905084405405,
          1429.0707024507,
          1450.6508964608597,
          1472.2310904710193,
          1493.811284481179,
          1515.3914784913386,
          1536.9716725014982,
          1558.5518665116579,
          1580.1320605218175,
          1601.7122545319771,
          1623.2924485421368,
          1644.8726425522964,
          1666.452836562456,
          1688.0330305726156,
          1709.6132245827753,
          1731.193418592935,
          1752.7736126030945,
          1774.3538066132542,
          1795.9340006234138,
          1817.5141946335734,
          1839.094388643733,
          1860.6745826538927,
          1882.2547766640523,
          1903.834970674212,
          1925.4151646843716,
          1946.9953586945312,
          1968.5755527046908,
          1990.1557467148505,
          2011.73594072501,
          2033.3161347351697,
          2054.8963287453294,
          2076.476522755489,
          2098.0567167656486,
          2119.6369107758082,
          2141.217104785968,
          2162.7972987961275,
          2184.377492806287,
          2205.9576868164468,
          2227.5378808266064,
          2249.118074836766,
          2270.6982688469257,
          2292.2784628570853,
          2313.858656867245,
          2335.4388508774045,
          2357.019044887564,
          2378.599238897724,
          2400.1794329078834,
          2421.759626918043,
          2443.3398209282027,
          2464.9200149383623,
          2486.500208948522,
          2508.0804029586816,
          2529.660596968841,
          2551.240790979001,
          2572.8209849891605,
          2594.40117899932,
          2615.9813730094797,
          2637.5615670196394,
          2659.141761029799,
          2680.7219550399586,
          2702.3021490501183,
          2723.882343060278,
          2745.4625370704375,
          2767.042731080597,
          2788.622925090757,
          2810.2031191009164,
          2831.783313111076,
          2853.3635071212357,
          2874.9437011313953,
          2896.523895141555,
          2918.1040891517146,
          2939.684283161874,
          2961.264477172034,
          2981.405991581516
         ]
        }
       ],
       "layout": {
        "height": 600,
        "margin": {
         "b": 0,
         "l": 0,
         "r": 0,
         "t": 0
        },
        "scene": {
         "aspectmode": "cube",
         "camera": {
          "eye": {
           "x": 1.5,
           "y": 1.5,
           "z": 1.5
          }
         },
         "xaxis": {
          "title": {
           "text": "East(+)/West(-)"
          }
         },
         "yaxis": {
          "title": {
           "text": "North(+)/South(-)"
          }
         },
         "zaxis": {
          "autorange": "reversed",
          "title": {
           "text": "TVD"
          }
         }
        },
        "template": {
         "data": {
          "bar": [
           {
            "error_x": {
             "color": "#2a3f5f"
            },
            "error_y": {
             "color": "#2a3f5f"
            },
            "marker": {
             "line": {
              "color": "#E5ECF6",
              "width": 0.5
             },
             "pattern": {
              "fillmode": "overlay",
              "size": 10,
              "solidity": 0.2
             }
            },
            "type": "bar"
           }
          ],
          "barpolar": [
           {
            "marker": {
             "line": {
              "color": "#E5ECF6",
              "width": 0.5
             },
             "pattern": {
              "fillmode": "overlay",
              "size": 10,
              "solidity": 0.2
             }
            },
            "type": "barpolar"
           }
          ],
          "carpet": [
           {
            "aaxis": {
             "endlinecolor": "#2a3f5f",
             "gridcolor": "white",
             "linecolor": "white",
             "minorgridcolor": "white",
             "startlinecolor": "#2a3f5f"
            },
            "baxis": {
             "endlinecolor": "#2a3f5f",
             "gridcolor": "white",
             "linecolor": "white",
             "minorgridcolor": "white",
             "startlinecolor": "#2a3f5f"
            },
            "type": "carpet"
           }
          ],
          "choropleth": [
           {
            "colorbar": {
             "outlinewidth": 0,
             "ticks": ""
            },
            "type": "choropleth"
           }
          ],
          "contour": [
           {
            "colorbar": {
             "outlinewidth": 0,
             "ticks": ""
            },
            "colorscale": [
             [
              0,
              "#0d0887"
             ],
             [
              0.1111111111111111,
              "#46039f"
             ],
             [
              0.2222222222222222,
              "#7201a8"
             ],
             [
              0.3333333333333333,
              "#9c179e"
             ],
             [
              0.4444444444444444,
              "#bd3786"
             ],
             [
              0.5555555555555556,
              "#d8576b"
             ],
             [
              0.6666666666666666,
              "#ed7953"
             ],
             [
              0.7777777777777778,
              "#fb9f3a"
             ],
             [
              0.8888888888888888,
              "#fdca26"
             ],
             [
              1,
              "#f0f921"
             ]
            ],
            "type": "contour"
           }
          ],
          "contourcarpet": [
           {
            "colorbar": {
             "outlinewidth": 0,
             "ticks": ""
            },
            "type": "contourcarpet"
           }
          ],
          "heatmap": [
           {
            "colorbar": {
             "outlinewidth": 0,
             "ticks": ""
            },
            "colorscale": [
             [
              0,
              "#0d0887"
             ],
             [
              0.1111111111111111,
              "#46039f"
             ],
             [
              0.2222222222222222,
              "#7201a8"
             ],
             [
              0.3333333333333333,
              "#9c179e"
             ],
             [
              0.4444444444444444,
              "#bd3786"
             ],
             [
              0.5555555555555556,
              "#d8576b"
             ],
             [
              0.6666666666666666,
              "#ed7953"
             ],
             [
              0.7777777777777778,
              "#fb9f3a"
             ],
             [
              0.8888888888888888,
              "#fdca26"
             ],
             [
              1,
              "#f0f921"
             ]
            ],
            "type": "heatmap"
           }
          ],
          "heatmapgl": [
           {
            "colorbar": {
             "outlinewidth": 0,
             "ticks": ""
            },
            "colorscale": [
             [
              0,
              "#0d0887"
             ],
             [
              0.1111111111111111,
              "#46039f"
             ],
             [
              0.2222222222222222,
              "#7201a8"
             ],
             [
              0.3333333333333333,
              "#9c179e"
             ],
             [
              0.4444444444444444,
              "#bd3786"
             ],
             [
              0.5555555555555556,
              "#d8576b"
             ],
             [
              0.6666666666666666,
              "#ed7953"
             ],
             [
              0.7777777777777778,
              "#fb9f3a"
             ],
             [
              0.8888888888888888,
              "#fdca26"
             ],
             [
              1,
              "#f0f921"
             ]
            ],
            "type": "heatmapgl"
           }
          ],
          "histogram": [
           {
            "marker": {
             "pattern": {
              "fillmode": "overlay",
              "size": 10,
              "solidity": 0.2
             }
            },
            "type": "histogram"
           }
          ],
          "histogram2d": [
           {
            "colorbar": {
             "outlinewidth": 0,
             "ticks": ""
            },
            "colorscale": [
             [
              0,
              "#0d0887"
             ],
             [
              0.1111111111111111,
              "#46039f"
             ],
             [
              0.2222222222222222,
              "#7201a8"
             ],
             [
              0.3333333333333333,
              "#9c179e"
             ],
             [
              0.4444444444444444,
              "#bd3786"
             ],
             [
              0.5555555555555556,
              "#d8576b"
             ],
             [
              0.6666666666666666,
              "#ed7953"
             ],
             [
              0.7777777777777778,
              "#fb9f3a"
             ],
             [
              0.8888888888888888,
              "#fdca26"
             ],
             [
              1,
              "#f0f921"
             ]
            ],
            "type": "histogram2d"
           }
          ],
          "histogram2dcontour": [
           {
            "colorbar": {
             "outlinewidth": 0,
             "ticks": ""
            },
            "colorscale": [
             [
              0,
              "#0d0887"
             ],
             [
              0.1111111111111111,
              "#46039f"
             ],
             [
              0.2222222222222222,
              "#7201a8"
             ],
             [
              0.3333333333333333,
              "#9c179e"
             ],
             [
              0.4444444444444444,
              "#bd3786"
             ],
             [
              0.5555555555555556,
              "#d8576b"
             ],
             [
              0.6666666666666666,
              "#ed7953"
             ],
             [
              0.7777777777777778,
              "#fb9f3a"
             ],
             [
              0.8888888888888888,
              "#fdca26"
             ],
             [
              1,
              "#f0f921"
             ]
            ],
            "type": "histogram2dcontour"
           }
          ],
          "mesh3d": [
           {
            "colorbar": {
             "outlinewidth": 0,
             "ticks": ""
            },
            "type": "mesh3d"
           }
          ],
          "parcoords": [
           {
            "line": {
             "colorbar": {
              "outlinewidth": 0,
              "ticks": ""
             }
            },
            "type": "parcoords"
           }
          ],
          "pie": [
           {
            "automargin": true,
            "type": "pie"
           }
          ],
          "scatter": [
           {
            "fillpattern": {
             "fillmode": "overlay",
             "size": 10,
             "solidity": 0.2
            },
            "type": "scatter"
           }
          ],
          "scatter3d": [
           {
            "line": {
             "colorbar": {
              "outlinewidth": 0,
              "ticks": ""
             }
            },
            "marker": {
             "colorbar": {
              "outlinewidth": 0,
              "ticks": ""
             }
            },
            "type": "scatter3d"
           }
          ],
          "scattercarpet": [
           {
            "marker": {
             "colorbar": {
              "outlinewidth": 0,
              "ticks": ""
             }
            },
            "type": "scattercarpet"
           }
          ],
          "scattergeo": [
           {
            "marker": {
             "colorbar": {
              "outlinewidth": 0,
              "ticks": ""
             }
            },
            "type": "scattergeo"
           }
          ],
          "scattergl": [
           {
            "marker": {
             "colorbar": {
              "outlinewidth": 0,
              "ticks": ""
             }
            },
            "type": "scattergl"
           }
          ],
          "scattermapbox": [
           {
            "marker": {
             "colorbar": {
              "outlinewidth": 0,
              "ticks": ""
             }
            },
            "type": "scattermapbox"
           }
          ],
          "scatterpolar": [
           {
            "marker": {
             "colorbar": {
              "outlinewidth": 0,
              "ticks": ""
             }
            },
            "type": "scatterpolar"
           }
          ],
          "scatterpolargl": [
           {
            "marker": {
             "colorbar": {
              "outlinewidth": 0,
              "ticks": ""
             }
            },
            "type": "scatterpolargl"
           }
          ],
          "scatterternary": [
           {
            "marker": {
             "colorbar": {
              "outlinewidth": 0,
              "ticks": ""
             }
            },
            "type": "scatterternary"
           }
          ],
          "surface": [
           {
            "colorbar": {
             "outlinewidth": 0,
             "ticks": ""
            },
            "colorscale": [
             [
              0,
              "#0d0887"
             ],
             [
              0.1111111111111111,
              "#46039f"
             ],
             [
              0.2222222222222222,
              "#7201a8"
             ],
             [
              0.3333333333333333,
              "#9c179e"
             ],
             [
              0.4444444444444444,
              "#bd3786"
             ],
             [
              0.5555555555555556,
              "#d8576b"
             ],
             [
              0.6666666666666666,
              "#ed7953"
             ],
             [
              0.7777777777777778,
              "#fb9f3a"
             ],
             [
              0.8888888888888888,
              "#fdca26"
             ],
             [
              1,
              "#f0f921"
             ]
            ],
            "type": "surface"
           }
          ],
          "table": [
           {
            "cells": {
             "fill": {
              "color": "#EBF0F8"
             },
             "line": {
              "color": "white"
             }
            },
            "header": {
             "fill": {
              "color": "#C8D4E3"
             },
             "line": {
              "color": "white"
             }
            },
            "type": "table"
           }
          ]
         },
         "layout": {
          "annotationdefaults": {
           "arrowcolor": "#2a3f5f",
           "arrowhead": 0,
           "arrowwidth": 1
          },
          "autotypenumbers": "strict",
          "coloraxis": {
           "colorbar": {
            "outlinewidth": 0,
            "ticks": ""
           }
          },
          "colorscale": {
           "diverging": [
            [
             0,
             "#8e0152"
            ],
            [
             0.1,
             "#c51b7d"
            ],
            [
             0.2,
             "#de77ae"
            ],
            [
             0.3,
             "#f1b6da"
            ],
            [
             0.4,
             "#fde0ef"
            ],
            [
             0.5,
             "#f7f7f7"
            ],
            [
             0.6,
             "#e6f5d0"
            ],
            [
             0.7,
             "#b8e186"
            ],
            [
             0.8,
             "#7fbc41"
            ],
            [
             0.9,
             "#4d9221"
            ],
            [
             1,
             "#276419"
            ]
           ],
           "sequential": [
            [
             0,
             "#0d0887"
            ],
            [
             0.1111111111111111,
             "#46039f"
            ],
            [
             0.2222222222222222,
             "#7201a8"
            ],
            [
             0.3333333333333333,
             "#9c179e"
            ],
            [
             0.4444444444444444,
             "#bd3786"
            ],
            [
             0.5555555555555556,
             "#d8576b"
            ],
            [
             0.6666666666666666,
             "#ed7953"
            ],
            [
             0.7777777777777778,
             "#fb9f3a"
            ],
            [
             0.8888888888888888,
             "#fdca26"
            ],
            [
             1,
             "#f0f921"
            ]
           ],
           "sequentialminus": [
            [
             0,
             "#0d0887"
            ],
            [
             0.1111111111111111,
             "#46039f"
            ],
            [
             0.2222222222222222,
             "#7201a8"
            ],
            [
             0.3333333333333333,
             "#9c179e"
            ],
            [
             0.4444444444444444,
             "#bd3786"
            ],
            [
             0.5555555555555556,
             "#d8576b"
            ],
            [
             0.6666666666666666,
             "#ed7953"
            ],
            [
             0.7777777777777778,
             "#fb9f3a"
            ],
            [
             0.8888888888888888,
             "#fdca26"
            ],
            [
             1,
             "#f0f921"
            ]
           ]
          },
          "colorway": [
           "#636efa",
           "#EF553B",
           "#00cc96",
           "#ab63fa",
           "#FFA15A",
           "#19d3f3",
           "#FF6692",
           "#B6E880",
           "#FF97FF",
           "#FECB52"
          ],
          "font": {
           "color": "#2a3f5f"
          },
          "geo": {
           "bgcolor": "white",
           "lakecolor": "white",
           "landcolor": "#E5ECF6",
           "showlakes": true,
           "showland": true,
           "subunitcolor": "white"
          },
          "hoverlabel": {
           "align": "left"
          },
          "hovermode": "closest",
          "mapbox": {
           "style": "light"
          },
          "paper_bgcolor": "white",
          "plot_bgcolor": "#E5ECF6",
          "polar": {
           "angularaxis": {
            "gridcolor": "white",
            "linecolor": "white",
            "ticks": ""
           },
           "bgcolor": "#E5ECF6",
           "radialaxis": {
            "gridcolor": "white",
            "linecolor": "white",
            "ticks": ""
           }
          },
          "scene": {
           "xaxis": {
            "backgroundcolor": "#E5ECF6",
            "gridcolor": "white",
            "gridwidth": 2,
            "linecolor": "white",
            "showbackground": true,
            "ticks": "",
            "zerolinecolor": "white"
           },
           "yaxis": {
            "backgroundcolor": "#E5ECF6",
            "gridcolor": "white",
            "gridwidth": 2,
            "linecolor": "white",
            "showbackground": true,
            "ticks": "",
            "zerolinecolor": "white"
           },
           "zaxis": {
            "backgroundcolor": "#E5ECF6",
            "gridcolor": "white",
            "gridwidth": 2,
            "linecolor": "white",
            "showbackground": true,
            "ticks": "",
            "zerolinecolor": "white"
           }
          },
          "shapedefaults": {
           "line": {
            "color": "#2a3f5f"
           }
          },
          "ternary": {
           "aaxis": {
            "gridcolor": "white",
            "linecolor": "white",
            "ticks": ""
           },
           "baxis": {
            "gridcolor": "white",
            "linecolor": "white",
            "ticks": ""
           },
           "bgcolor": "#E5ECF6",
           "caxis": {
            "gridcolor": "white",
            "linecolor": "white",
            "ticks": ""
           }
          },
          "title": {
           "x": 0.05
          },
          "xaxis": {
           "automargin": true,
           "gridcolor": "white",
           "linecolor": "white",
           "ticks": "",
           "title": {
            "standoff": 15
           },
           "zerolinecolor": "white",
           "zerolinewidth": 2
          },
          "yaxis": {
           "automargin": true,
           "gridcolor": "white",
           "linecolor": "white",
           "ticks": "",
           "title": {
            "standoff": 15
           },
           "zerolinecolor": "white",
           "zerolinewidth": 2
          }
         }
        },
        "width": 800
       }
      }
     },
     "metadata": {},
     "output_type": "display_data"
    }
   ],
   "source": [
    "import plotly.graph_objects as go\n",
    "\n",
    "# Create a scatter plot for the survey points\n",
    "fig = go.Figure()\n",
    "\n",
    "# Add scatter points for the survey nodes\n",
    "fig.add_trace(go.Scatter3d(\n",
    "    x=survey_example_2.x,\n",
    "    y=survey_example_2.y,\n",
    "    z=survey_example_2.z,\n",
    "    mode='markers',\n",
    "    marker=dict(size=2, color='blue'),\n",
    "    name='Survey Points'\n",
    "))\n",
    "\n",
    "# Reverse the z-axis for better visualization\n",
    "fig.update_scenes(zaxis_autorange=\"reversed\")\n",
    "\n",
    "# Customize the layout\n",
    "fig.update_layout(\n",
    "    scene=dict(\n",
    "        xaxis_title='East(+)/West(-)',\n",
    "        yaxis_title='North(+)/South(-)',\n",
    "        zaxis_title='TVD',\n",
    "        aspectmode='cube',\n",
    "        camera=dict(eye=dict(x=1.5, y=1.5, z=1.5))\n",
    "    ),\n",
    "    width=800,\n",
    "    height=600,\n",
    "    margin=dict(l=0, r=0, b=0, t=0)\n",
    ")\n",
    "\n",
    "# Show the plot\n",
    "fig.show()"
   ]
  },
  {
   "cell_type": "code",
   "execution_count": 47,
   "metadata": {},
   "outputs": [],
   "source": [
    "# initiate a BHA instance\n",
    "bha = we.architecture.BHA(\n",
    "    name='8 1/2\" Drilling BHA', top=0, bottom=3718, method=\"bottom_up\")\n",
    "\n",
    "# add some Drill Collars\n",
    "bha.add_section(\n",
    "    od=(6.5 * ureg.inches).to('meters').m,\n",
    "    id=(4 * ureg.inches).to('meters').m,\n",
    "    length=(372 * ureg.ft).to('meters').m,\n",
    "    unit_weight=(146.9 * ureg('lbs / ft').to('kg / meters')).m * 9.81,\n",
    "    name='6 1/2\" DC'\n",
    ")\n",
    "\n",
    "# add some HWDP\n",
    "bha.add_section(\n",
    "    od=(4.5 * ureg.inches).to('meters').m,\n",
    "    tooljoint_od=(6.375 * ureg.inches).to('meters').m,\n",
    "    id=(4 * ureg.inches).to('meters').m,\n",
    "    length=(840 * ureg.ft).to('meters').m,\n",
    "    unit_weight=(46.90 * ureg('lbs / ft').to('kg / meters')).m * 9.81,\n",
    "    name='5\" HWDP'\n",
    ")\n",
    "\n",
    "# add the drill pipe back to surface\n",
    "bha.add_section(\n",
    "    od=(5.0 * ureg.inches).to('meters').m,\n",
    "    tooljoint_od=(6.625 * ureg.inches).to('meters').m,\n",
    "    id=(3.625 * ureg.inches).to('meters').m,\n",
    "    length=None,\n",
    "    unit_weight=(20 * ureg('lbs / ft').to('kg / meters')).m * 9.81,\n",
    "    name='5\" DP'\n",
    ")"
   ]
  },
  {
   "cell_type": "code",
   "execution_count": 43,
   "metadata": {},
   "outputs": [],
   "source": [
    "# initiate a WellBore instance\n",
    "wellbore = we.architecture.WellBore(\n",
    "    name='8 1/2\" Hole Section', top=0, bottom=3718, method='top_down'\n",
    ")\n",
    "\n",
    "# add the casing\n",
    "wellbore.add_section(\n",
    "    od=9+5/8, id=8.5,\n",
    "    bottom=3688 * 0.7,\n",
    "    unit_weight=(68 * ureg('lbs / ft').to('kg / meters')).m,\n",
    "    coeff_friction_sliding=0.39,\n",
    "    name='production 9 5/8\" casing'\n",
    ")\n",
    "\n",
    "# add the open hole section below the casing to the section TD\n",
    "wellbore.add_section(\n",
    "    od=None, id=8.5, bottom=3718, unit_weight=None,\n",
    "    coeff_friction_sliding=0.39, name='8 1/2\" OH'\n",
    ")"
   ]
  },
  {
   "cell_type": "code",
   "execution_count": 44,
   "metadata": {},
   "outputs": [
    {
     "data": {
      "application/vnd.plotly.v1+json": {
       "config": {
        "plotlyServerURL": "https://plot.ly"
       },
       "data": [
        {
         "line": {
          "color": "blue"
         },
         "name": "SOFF: 0.10",
         "type": "scatter",
         "x": [
          11897.818587084916,
          23795.63717416983,
          35693.45576125475,
          45805.54865597718,
          49604.10339889265,
          53402.65814180812,
          57201.21288472359,
          60999.76762763906,
          64798.32237055453,
          68596.87711347,
          72395.43185638546,
          76193.98659930093,
          78497.7774918385,
          80117.63026067238,
          81737.48302950627,
          83357.33579834015,
          84977.18856717403,
          86597.04133600791,
          88216.8941048418,
          89836.74687367569,
          91456.59964250957,
          93076.45241134346,
          94696.30518017734,
          96316.15794901122,
          97925.89374970712,
          99446.23976373688,
          100833.83730447994,
          102069.10237477894,
          103141.81149308407,
          104101.99727767066,
          104947.16532582577,
          105672.91492455649,
          106275.09412118887,
          106749.80500435877,
          107093.40849001771,
          107302.52860811228,
          107373.03813025475,
          107314.76366942127,
          107137.39586785751,
          106841.52119071687,
          106428.65799810881,
          105900.51948062728,
          105271.77456978575,
          104828.53901779429,
          104673.95484909277,
          104820.92278000295,
          105243.49232555418,
          105745.59937894353,
          106302.84646531277,
          106917.8380343868,
          107593.0542540842,
          108330.84765208894,
          109133.44001203195,
          110002.91952765478,
          110943.2898500948,
          111918.02086350987,
          112892.75187692491,
          113867.48289033993,
          114842.21390375496,
          115816.94491717001,
          116791.67593058504,
          117766.40694400006,
          118741.13795741514,
          119715.86897083014,
          120690.59998424516,
          121665.33099766023,
          122640.0620110753,
          123614.79302449031,
          124589.52403790534,
          125564.25505132036,
          126538.9860647354,
          127513.71707815047,
          128488.44809156551,
          129463.1791049805,
          130437.91011839556,
          131412.6411318106,
          132387.3721452256,
          133362.10315864065,
          134336.83417205568,
          135311.56518547074,
          136286.29619888577,
          137261.02721230083,
          138235.75822571586,
          139210.4892391309,
          140185.2202525459,
          141159.951265961,
          142134.68227937602,
          143109.413292791,
          144084.14430620606,
          145058.87531962112,
          146033.6063330361,
          147008.33734645118,
          147983.06835986624,
          148957.79937328128,
          149932.5303866963,
          150907.26140011134,
          151881.99241352634,
          152856.72342694143,
          153831.45444035647,
          154806.18545377147,
          155780.91646718653,
          156755.64748060156,
          157730.37849401656,
          158705.1095074316,
          159679.8405208467,
          160654.5715342617,
          161629.30254767672,
          162604.03356109175,
          163578.7645745068,
          164553.4955879218,
          165528.22660133682,
          166502.95761475188,
          167477.6886281669,
          168452.41964158206,
          169427.15065499704,
          170401.881668412,
          171376.6126818271,
          172351.34369524213,
          173326.07470865716,
          174300.80572207223,
          175275.5367354872,
          176250.26774890217,
          177224.99876231726,
          178134.74770817132
         ],
         "y": [
          98.4251968503937,
          196.8503937007874,
          295.2755905511811,
          393.7007874015748,
          492.12598425196853,
          590.5511811023622,
          688.9763779527559,
          787.4015748031496,
          885.8267716535433,
          984.2519685039371,
          1082.6771653543308,
          1181.1023622047244,
          1279.5275590551182,
          1377.9527559055118,
          1476.3779527559057,
          1574.8031496062993,
          1673.2283464566929,
          1771.6535433070867,
          1870.0787401574803,
          1968.5039370078741,
          2066.929133858268,
          2165.3543307086616,
          2263.779527559055,
          2362.2047244094488,
          2460.6299212598424,
          2559.0551181102364,
          2657.48031496063,
          2755.9055118110236,
          2854.3307086614172,
          2952.7559055118113,
          3051.181102362205,
          3149.6062992125985,
          3248.031496062992,
          3346.4566929133857,
          3444.88188976378,
          3543.3070866141734,
          3641.732283464567,
          3740.1574803149606,
          3838.5826771653547,
          3937.0078740157483,
          4035.433070866142,
          4133.858267716536,
          4232.283464566929,
          4330.708661417323,
          4429.133858267716,
          4527.55905511811,
          4625.984251968504,
          4724.4094488188975,
          4822.834645669292,
          4921.259842519685,
          5019.685039370079,
          5118.110236220473,
          5216.535433070866,
          5314.96062992126,
          5413.385826771654,
          5511.811023622047,
          5610.236220472441,
          5708.6614173228345,
          5807.086614173229,
          5905.511811023623,
          6003.937007874016,
          6102.36220472441,
          6200.787401574803,
          6299.212598425197,
          6397.637795275591,
          6496.062992125984,
          6594.488188976378,
          6692.913385826771,
          6791.3385826771655,
          6889.76377952756,
          6988.188976377953,
          7086.614173228347,
          7185.03937007874,
          7283.464566929134,
          7381.889763779528,
          7480.314960629921,
          7578.740157480315,
          7677.165354330709,
          7775.5905511811025,
          7874.0157480314965,
          7972.44094488189,
          8070.866141732284,
          8169.291338582678,
          8267.716535433072,
          8366.141732283464,
          8464.566929133858,
          8562.992125984252,
          8661.417322834646,
          8759.84251968504,
          8858.267716535433,
          8956.692913385827,
          9055.11811023622,
          9153.543307086615,
          9251.968503937009,
          9350.393700787401,
          9448.818897637795,
          9547.24409448819,
          9645.669291338583,
          9744.094488188977,
          9842.51968503937,
          9940.944881889764,
          10039.370078740158,
          10137.795275590552,
          10236.220472440946,
          10334.645669291338,
          10433.070866141732,
          10531.496062992126,
          10629.92125984252,
          10728.346456692914,
          10826.771653543308,
          10925.1968503937,
          11023.622047244095,
          11122.047244094489,
          11220.472440944883,
          11318.897637795277,
          11417.322834645669,
          11515.748031496063,
          11614.173228346457,
          11712.598425196851,
          11811.023622047245,
          11909.448818897637,
          12007.874015748032,
          12106.299212598426,
          12198.162729658792
         ]
        },
        {
         "line": {
          "color": "blue",
          "dash": "dashdot"
         },
         "name": "SOFF: 0.20",
         "type": "scatter",
         "x": [
          11897.818587084916,
          23795.63717416983,
          35693.45576125475,
          45805.54865597718,
          49604.10339889265,
          53402.65814180812,
          57201.21288472359,
          60999.76762763906,
          64798.32237055453,
          68596.87711347,
          72395.43185638546,
          76193.98659930093,
          78497.7774918385,
          80117.63026067238,
          81737.48302950627,
          83357.33579834015,
          84977.18856717403,
          86597.04133600791,
          88216.8941048418,
          89836.74687367569,
          91456.59964250957,
          93076.45241134346,
          94696.30518017734,
          96316.15794901122,
          97916.39206049537,
          99350.60470622648,
          100554.62264521739,
          101511.40339831192,
          102221.9968975711,
          102796.25280691609,
          103235.93990058897,
          103538.54489569459,
          103701.84600548765,
          103723.91210550032,
          103603.10138470378,
          103338.05949277329,
          102925.91625720153,
          102389.8127815393,
          101749.42661662551,
          101006.52669688535,
          100164.17997259885,
          99225.58304575508,
          98202.76359265961,
          97400.41663060189,
          96927.4709073784,
          96793.74578168166,
          96969.14326522683,
          97238.75294094418,
          97574.79902333833,
          97978.997089606,
          98452.90999866527,
          98997.94760226594,
          99615.36673935938,
          100306.27150900017,
          101074.63299396848,
          101880.44090793811,
          102686.24882190773,
          103492.05673587738,
          104297.86464984702,
          105103.67256381664,
          105909.48047778629,
          106715.28839175591,
          107521.09630572554,
          108326.90421969516,
          109132.71213366484,
          109938.52004763448,
          110744.3279616041,
          111550.13587557372,
          112355.94378954334,
          113161.75170351297,
          113967.55961748259,
          114773.36753145224,
          115579.17544542189,
          116384.98335939155,
          117190.7912733612,
          117996.59918733084,
          118802.40710130049,
          119608.2150152701,
          120414.02292923973,
          121219.83084320939,
          122025.63875717901,
          122831.44667114867,
          123637.25458511832,
          124443.06249908792,
          125248.87041305756,
          126054.67832702718,
          126860.48624099685,
          127666.2941549665,
          128472.10206893616,
          129277.90998290575,
          130083.71789687543,
          130889.52581084502,
          131695.33372481467,
          132501.14163878432,
          133306.94955275394,
          134112.7574667236,
          134918.5653806932,
          135724.3732946629,
          136530.18120863254,
          137335.9891226022,
          138141.7970365718,
          138947.60495054143,
          139753.41286451108,
          140559.2207784807,
          141365.02869245037,
          142170.83660642,
          142976.64452038961,
          143782.45243435926,
          144588.2603483289,
          145394.06826229856,
          146199.8761762682,
          147005.6840902378,
          147811.49200420745,
          148617.29991817713,
          149423.10783214672,
          150228.9157461164,
          151034.72366008602,
          151840.53157405564,
          152646.3394880253,
          153452.1474019949,
          154257.95531596456,
          155063.7632299342,
          155869.5711439039,
          156621.65853027557
         ],
         "y": [
          98.4251968503937,
          196.8503937007874,
          295.2755905511811,
          393.7007874015748,
          492.12598425196853,
          590.5511811023622,
          688.9763779527559,
          787.4015748031496,
          885.8267716535433,
          984.2519685039371,
          1082.6771653543308,
          1181.1023622047244,
          1279.5275590551182,
          1377.9527559055118,
          1476.3779527559057,
          1574.8031496062993,
          1673.2283464566929,
          1771.6535433070867,
          1870.0787401574803,
          1968.5039370078741,
          2066.929133858268,
          2165.3543307086616,
          2263.779527559055,
          2362.2047244094488,
          2460.6299212598424,
          2559.0551181102364,
          2657.48031496063,
          2755.9055118110236,
          2854.3307086614172,
          2952.7559055118113,
          3051.181102362205,
          3149.6062992125985,
          3248.031496062992,
          3346.4566929133857,
          3444.88188976378,
          3543.3070866141734,
          3641.732283464567,
          3740.1574803149606,
          3838.5826771653547,
          3937.0078740157483,
          4035.433070866142,
          4133.858267716536,
          4232.283464566929,
          4330.708661417323,
          4429.133858267716,
          4527.55905511811,
          4625.984251968504,
          4724.4094488188975,
          4822.834645669292,
          4921.259842519685,
          5019.685039370079,
          5118.110236220473,
          5216.535433070866,
          5314.96062992126,
          5413.385826771654,
          5511.811023622047,
          5610.236220472441,
          5708.6614173228345,
          5807.086614173229,
          5905.511811023623,
          6003.937007874016,
          6102.36220472441,
          6200.787401574803,
          6299.212598425197,
          6397.637795275591,
          6496.062992125984,
          6594.488188976378,
          6692.913385826771,
          6791.3385826771655,
          6889.76377952756,
          6988.188976377953,
          7086.614173228347,
          7185.03937007874,
          7283.464566929134,
          7381.889763779528,
          7480.314960629921,
          7578.740157480315,
          7677.165354330709,
          7775.5905511811025,
          7874.0157480314965,
          7972.44094488189,
          8070.866141732284,
          8169.291338582678,
          8267.716535433072,
          8366.141732283464,
          8464.566929133858,
          8562.992125984252,
          8661.417322834646,
          8759.84251968504,
          8858.267716535433,
          8956.692913385827,
          9055.11811023622,
          9153.543307086615,
          9251.968503937009,
          9350.393700787401,
          9448.818897637795,
          9547.24409448819,
          9645.669291338583,
          9744.094488188977,
          9842.51968503937,
          9940.944881889764,
          10039.370078740158,
          10137.795275590552,
          10236.220472440946,
          10334.645669291338,
          10433.070866141732,
          10531.496062992126,
          10629.92125984252,
          10728.346456692914,
          10826.771653543308,
          10925.1968503937,
          11023.622047244095,
          11122.047244094489,
          11220.472440944883,
          11318.897637795277,
          11417.322834645669,
          11515.748031496063,
          11614.173228346457,
          11712.598425196851,
          11811.023622047245,
          11909.448818897637,
          12007.874015748032,
          12106.299212598426,
          12198.162729658792
         ]
        },
        {
         "line": {
          "color": "blue",
          "dash": "dash"
         },
         "name": "SOFF: 0.30",
         "type": "scatter",
         "x": [
          11897.818587084916,
          23795.63717416983,
          35693.45576125475,
          45805.54865597718,
          49604.10339889265,
          53402.65814180812,
          57201.21288472359,
          60999.76762763906,
          64798.32237055453,
          68596.87711347,
          72395.43185638546,
          76193.98659930093,
          78497.7774918385,
          80117.63026067238,
          81737.48302950627,
          83357.33579834015,
          84977.18856717403,
          86597.04133600791,
          88216.8941048418,
          89836.74687367569,
          91456.59964250957,
          93076.45241134346,
          94696.30518017734,
          96316.15794901122,
          97906.89037128365,
          99255.2586245028,
          100277.37568186308,
          100959.9359635734,
          101316.6938507527,
          101517.55099629048,
          101568.9626650617,
          101470.43304714929,
          101221.7637122172,
          100823.04653944123,
          100274.65627276042,
          99577.2427249812,
          98729.29882625028,
          97767.06293872387,
          96719.65670549493,
          95589.85045334921,
          94381.85489563948,
          93099.92389675727,
          91754.74733417855,
          90660.59199957791,
          89927.50003722409,
          89561.40189616084,
          89527.78645700679,
          89600.25580012253,
          89748.61666071939,
          89973.61204250592,
          90275.82069859664,
          90655.66014486998,
          91113.38990429479,
          91649.11497027556,
          92266.08585477786,
          92922.493202806,
          93578.90055083412,
          94235.30789886227,
          94891.7152468904,
          95548.12259491855,
          96204.52994294667,
          96860.9372909748,
          97517.34463900296,
          98173.75198703108,
          98830.1593350592,
          99486.56668308735,
          100142.97403111552,
          100799.38137914364,
          101455.78872717175,
          102112.19607519993,
          102768.60342322805,
          103425.01077125619,
          104081.41811928431,
          104737.82546731246,
          105394.2328153406,
          106050.64016336875,
          106707.04751139687,
          107363.45485942501,
          108019.86220745313,
          108676.26955548125,
          109332.67690350942,
          109989.08425153757,
          110645.49159956569,
          111301.89894759384,
          111958.30629562198,
          112614.7136436501,
          113271.12099167824,
          113927.52833970639,
          114583.93568773451,
          115240.3430357627,
          115896.7503837908,
          116553.15773181895,
          117209.56507984709,
          117865.97242787524,
          118522.37977590336,
          119178.78712393151,
          119835.19447195962,
          120491.60181998777,
          121148.00916801591,
          121804.41651604406,
          122460.82386407221,
          123117.23121210032,
          123773.6385601285,
          124430.04590815662,
          125086.45325618476,
          125742.86060421288,
          126399.267952241,
          127055.67530026917,
          127712.08264829732,
          128368.48999632541,
          129024.89734435355,
          129681.30469238167,
          130337.71204040982,
          130994.11938843799,
          131650.52673646613,
          132306.93408449425,
          132963.3414325224,
          133619.74878055052,
          134276.15612857867,
          134932.56347660683,
          135588.97082463495,
          136245.37817266313,
          136901.78552069122,
          137514.43237885085
         ],
         "y": [
          98.4251968503937,
          196.8503937007874,
          295.2755905511811,
          393.7007874015748,
          492.12598425196853,
          590.5511811023622,
          688.9763779527559,
          787.4015748031496,
          885.8267716535433,
          984.2519685039371,
          1082.6771653543308,
          1181.1023622047244,
          1279.5275590551182,
          1377.9527559055118,
          1476.3779527559057,
          1574.8031496062993,
          1673.2283464566929,
          1771.6535433070867,
          1870.0787401574803,
          1968.5039370078741,
          2066.929133858268,
          2165.3543307086616,
          2263.779527559055,
          2362.2047244094488,
          2460.6299212598424,
          2559.0551181102364,
          2657.48031496063,
          2755.9055118110236,
          2854.3307086614172,
          2952.7559055118113,
          3051.181102362205,
          3149.6062992125985,
          3248.031496062992,
          3346.4566929133857,
          3444.88188976378,
          3543.3070866141734,
          3641.732283464567,
          3740.1574803149606,
          3838.5826771653547,
          3937.0078740157483,
          4035.433070866142,
          4133.858267716536,
          4232.283464566929,
          4330.708661417323,
          4429.133858267716,
          4527.55905511811,
          4625.984251968504,
          4724.4094488188975,
          4822.834645669292,
          4921.259842519685,
          5019.685039370079,
          5118.110236220473,
          5216.535433070866,
          5314.96062992126,
          5413.385826771654,
          5511.811023622047,
          5610.236220472441,
          5708.6614173228345,
          5807.086614173229,
          5905.511811023623,
          6003.937007874016,
          6102.36220472441,
          6200.787401574803,
          6299.212598425197,
          6397.637795275591,
          6496.062992125984,
          6594.488188976378,
          6692.913385826771,
          6791.3385826771655,
          6889.76377952756,
          6988.188976377953,
          7086.614173228347,
          7185.03937007874,
          7283.464566929134,
          7381.889763779528,
          7480.314960629921,
          7578.740157480315,
          7677.165354330709,
          7775.5905511811025,
          7874.0157480314965,
          7972.44094488189,
          8070.866141732284,
          8169.291338582678,
          8267.716535433072,
          8366.141732283464,
          8464.566929133858,
          8562.992125984252,
          8661.417322834646,
          8759.84251968504,
          8858.267716535433,
          8956.692913385827,
          9055.11811023622,
          9153.543307086615,
          9251.968503937009,
          9350.393700787401,
          9448.818897637795,
          9547.24409448819,
          9645.669291338583,
          9744.094488188977,
          9842.51968503937,
          9940.944881889764,
          10039.370078740158,
          10137.795275590552,
          10236.220472440946,
          10334.645669291338,
          10433.070866141732,
          10531.496062992126,
          10629.92125984252,
          10728.346456692914,
          10826.771653543308,
          10925.1968503937,
          11023.622047244095,
          11122.047244094489,
          11220.472440944883,
          11318.897637795277,
          11417.322834645669,
          11515.748031496063,
          11614.173228346457,
          11712.598425196851,
          11811.023622047245,
          11909.448818897637,
          12007.874015748032,
          12106.299212598426,
          12198.162729658792
         ]
        },
        {
         "line": {
          "color": "blue",
          "dash": "dot"
         },
         "name": "SOFF: 0.40",
         "type": "scatter",
         "x": [
          11897.818587084916,
          23795.63717416983,
          35693.45576125475,
          45805.54865597718,
          49604.10339889265,
          53402.65814180812,
          57201.21288472359,
          60999.76762763906,
          64798.32237055453,
          68596.87711347,
          72395.43185638546,
          76193.98659930093,
          78497.7774918385,
          80117.63026067238,
          81737.48302950627,
          83357.33579834015,
          84977.18856717403,
          86597.04133600791,
          88216.8941048418,
          89836.74687367569,
          91456.59964250957,
          93076.45241134346,
          94696.30518017734,
          96316.15794901122,
          97897.3886820719,
          99160.20151856587,
          100002.08951879786,
          100414.65365144116,
          100425.72593327281,
          100265.45077321574,
          99945.31418834731,
          99466.89475907778,
          98832.03765861908,
          98042.84204924913,
          97101.64838633811,
          96011.02565881316,
          94770.83638241337,
          93430.15861530347,
          92027.01987786652,
          90564.92090892505,
          89048.77469016229,
          87483.43949503888,
          85879.2362730794,
          84552.43583280627,
          83610.38635814721,
          83054.56044292833,
          82845.93225026195,
          82752.75310081695,
          82743.24271252978,
          82817.11362862168,
          82973.91982490094,
          83213.06289262544,
          83533.79832264976,
          83935.2418748106,
          84419.48163767724,
          84944.13522649641,
          85468.78881531558,
          85993.44240413475,
          86518.0959929539,
          87042.74958177308,
          87567.40317059224,
          88092.05675941141,
          88616.71034823058,
          89141.36393704977,
          89666.01752586891,
          90190.67111468808,
          90715.32470350724,
          91239.97829232641,
          91764.6318811456,
          92289.28546996477,
          92813.93905878393,
          93338.59264760309,
          93863.24623642226,
          94387.89982524143,
          94912.5534140606,
          95437.20700287978,
          95961.86059169895,
          96486.5141805181,
          97011.16776933728,
          97535.82135815643,
          98060.4749469756,
          98585.12853579479,
          99109.78212461396,
          99634.43571343312,
          100159.08930225231,
          100683.74289107147,
          101208.39647989062,
          101733.05006870981,
          102257.70365752897,
          102782.35724634814,
          103307.01083516734,
          103831.66442398648,
          104356.31801280567,
          104880.97160162486,
          105405.62519044401,
          105930.27877926314,
          106454.93236808236,
          106979.58595690153,
          107504.23954572069,
          108028.89313453985,
          108553.54672335903,
          109078.20031217819,
          109602.85390099735,
          110127.50748981656,
          110652.1610786357,
          111176.81466745489,
          111701.46825627405,
          112226.1218450932,
          112750.7754339124,
          113275.42902273155,
          113800.08261155071,
          114324.7362003699,
          114849.38978918908,
          115374.04337800825,
          115898.69696682741,
          116423.3505556466,
          116948.00414446575,
          117472.65773328491,
          117997.3113221041,
          118521.96491092327,
          119046.61849974243,
          119571.27208856164,
          120095.92567738077,
          120585.60236027867
         ],
         "y": [
          98.4251968503937,
          196.8503937007874,
          295.2755905511811,
          393.7007874015748,
          492.12598425196853,
          590.5511811023622,
          688.9763779527559,
          787.4015748031496,
          885.8267716535433,
          984.2519685039371,
          1082.6771653543308,
          1181.1023622047244,
          1279.5275590551182,
          1377.9527559055118,
          1476.3779527559057,
          1574.8031496062993,
          1673.2283464566929,
          1771.6535433070867,
          1870.0787401574803,
          1968.5039370078741,
          2066.929133858268,
          2165.3543307086616,
          2263.779527559055,
          2362.2047244094488,
          2460.6299212598424,
          2559.0551181102364,
          2657.48031496063,
          2755.9055118110236,
          2854.3307086614172,
          2952.7559055118113,
          3051.181102362205,
          3149.6062992125985,
          3248.031496062992,
          3346.4566929133857,
          3444.88188976378,
          3543.3070866141734,
          3641.732283464567,
          3740.1574803149606,
          3838.5826771653547,
          3937.0078740157483,
          4035.433070866142,
          4133.858267716536,
          4232.283464566929,
          4330.708661417323,
          4429.133858267716,
          4527.55905511811,
          4625.984251968504,
          4724.4094488188975,
          4822.834645669292,
          4921.259842519685,
          5019.685039370079,
          5118.110236220473,
          5216.535433070866,
          5314.96062992126,
          5413.385826771654,
          5511.811023622047,
          5610.236220472441,
          5708.6614173228345,
          5807.086614173229,
          5905.511811023623,
          6003.937007874016,
          6102.36220472441,
          6200.787401574803,
          6299.212598425197,
          6397.637795275591,
          6496.062992125984,
          6594.488188976378,
          6692.913385826771,
          6791.3385826771655,
          6889.76377952756,
          6988.188976377953,
          7086.614173228347,
          7185.03937007874,
          7283.464566929134,
          7381.889763779528,
          7480.314960629921,
          7578.740157480315,
          7677.165354330709,
          7775.5905511811025,
          7874.0157480314965,
          7972.44094488189,
          8070.866141732284,
          8169.291338582678,
          8267.716535433072,
          8366.141732283464,
          8464.566929133858,
          8562.992125984252,
          8661.417322834646,
          8759.84251968504,
          8858.267716535433,
          8956.692913385827,
          9055.11811023622,
          9153.543307086615,
          9251.968503937009,
          9350.393700787401,
          9448.818897637795,
          9547.24409448819,
          9645.669291338583,
          9744.094488188977,
          9842.51968503937,
          9940.944881889764,
          10039.370078740158,
          10137.795275590552,
          10236.220472440946,
          10334.645669291338,
          10433.070866141732,
          10531.496062992126,
          10629.92125984252,
          10728.346456692914,
          10826.771653543308,
          10925.1968503937,
          11023.622047244095,
          11122.047244094489,
          11220.472440944883,
          11318.897637795277,
          11417.322834645669,
          11515.748031496063,
          11614.173228346457,
          11712.598425196851,
          11811.023622047245,
          11909.448818897637,
          12007.874015748032,
          12106.299212598426,
          12198.162729658792
         ]
        },
        {
         "line": {
          "color": "green"
         },
         "name": "RoffBFF: 0.10",
         "type": "scatter",
         "x": [
          11897.818587084916,
          23795.63717416983,
          35693.45576125475,
          45805.54865597718,
          49604.10339889265,
          53402.65814180812,
          57201.21288472359,
          60999.76762763906,
          64798.32237055453,
          68596.87711347,
          72395.43185638546,
          76193.98659930093,
          78497.7774918385,
          80117.63026067238,
          81737.48302950627,
          83357.33579834015,
          84977.18856717403,
          86597.04133600791,
          88216.8941048418,
          89836.74687367569,
          91456.59964250957,
          93076.45241134346,
          94696.30518017734,
          96316.15794901122,
          97935.39543891884,
          99542.16379703404,
          101115.02655526987,
          102633.07948242113,
          104076.31560493831,
          105435.23107399562,
          106703.57385667032,
          107875.26354937677,
          108944.39023943852,
          109905.22492985989,
          110752.22964497209,
          111480.06719912752,
          112083.57485361428,
          112559.09888080781,
          112905.80189429426,
          113123.0163291895,
          113210.35903078517,
          113167.67593120184,
          113013.97670423714,
          113006.1693156401,
          113235.94642460188,
          113718.20173685226,
          114430.66754513419,
          115204.87527226732,
          116020.91062933684,
          116882.15407266989,
          117791.90631393433,
          118753.38249785897,
          119769.7065308891,
          120843.90557078189,
          121979.02612873304,
          123144.250696044,
          124309.47526335498,
          125474.69983066598,
          126639.92439797697,
          127805.14896528792,
          128970.37353259893,
          130135.59809990988,
          131300.82266722087,
          132466.04723453184,
          133631.27180184284,
          134796.49636915379,
          135961.7209364648,
          137126.94550377576,
          138292.17007108673,
          139457.3946383977,
          140622.6192057087,
          141787.84377301965,
          142953.06834033065,
          144118.29290764162,
          145283.5174749526,
          146448.74204226356,
          147613.96660957456,
          148779.1911768855,
          149944.4157441965,
          151109.64031150748,
          152274.86487881845,
          153440.08944612945,
          154605.31401344042,
          155770.53858075142,
          156935.76314806237,
          158100.98771537334,
          159266.21228268434,
          160431.43684999528,
          161596.66141730628,
          162761.88598461726,
          163927.11055192823,
          165092.3351192392,
          166257.5596865502,
          167422.78425386117,
          168588.00882117214,
          169753.23338848312,
          170918.4579557941,
          172083.68252310506,
          173248.90709041606,
          174414.13165772703,
          175579.35622503803,
          176744.58079234904,
          177909.80535965998,
          179075.02992697095,
          180240.25449428195,
          181405.47906159292,
          182570.70362890387,
          183735.92819621487,
          184901.15276352584,
          186066.3773308368,
          187231.6018981478,
          188396.8264654588,
          189562.05103276978,
          190727.2756000808,
          191892.50016739176,
          193057.72473470276,
          194222.94930201376,
          195388.17386932473,
          196553.39843663573,
          197718.62300394673,
          198883.8475712577,
          200049.0721385687,
          201214.2967058797,
          202301.83963536995
         ],
         "y": [
          98.4251968503937,
          196.8503937007874,
          295.2755905511811,
          393.7007874015748,
          492.12598425196853,
          590.5511811023622,
          688.9763779527559,
          787.4015748031496,
          885.8267716535433,
          984.2519685039371,
          1082.6771653543308,
          1181.1023622047244,
          1279.5275590551182,
          1377.9527559055118,
          1476.3779527559057,
          1574.8031496062993,
          1673.2283464566929,
          1771.6535433070867,
          1870.0787401574803,
          1968.5039370078741,
          2066.929133858268,
          2165.3543307086616,
          2263.779527559055,
          2362.2047244094488,
          2460.6299212598424,
          2559.0551181102364,
          2657.48031496063,
          2755.9055118110236,
          2854.3307086614172,
          2952.7559055118113,
          3051.181102362205,
          3149.6062992125985,
          3248.031496062992,
          3346.4566929133857,
          3444.88188976378,
          3543.3070866141734,
          3641.732283464567,
          3740.1574803149606,
          3838.5826771653547,
          3937.0078740157483,
          4035.433070866142,
          4133.858267716536,
          4232.283464566929,
          4330.708661417323,
          4429.133858267716,
          4527.55905511811,
          4625.984251968504,
          4724.4094488188975,
          4822.834645669292,
          4921.259842519685,
          5019.685039370079,
          5118.110236220473,
          5216.535433070866,
          5314.96062992126,
          5413.385826771654,
          5511.811023622047,
          5610.236220472441,
          5708.6614173228345,
          5807.086614173229,
          5905.511811023623,
          6003.937007874016,
          6102.36220472441,
          6200.787401574803,
          6299.212598425197,
          6397.637795275591,
          6496.062992125984,
          6594.488188976378,
          6692.913385826771,
          6791.3385826771655,
          6889.76377952756,
          6988.188976377953,
          7086.614173228347,
          7185.03937007874,
          7283.464566929134,
          7381.889763779528,
          7480.314960629921,
          7578.740157480315,
          7677.165354330709,
          7775.5905511811025,
          7874.0157480314965,
          7972.44094488189,
          8070.866141732284,
          8169.291338582678,
          8267.716535433072,
          8366.141732283464,
          8464.566929133858,
          8562.992125984252,
          8661.417322834646,
          8759.84251968504,
          8858.267716535433,
          8956.692913385827,
          9055.11811023622,
          9153.543307086615,
          9251.968503937009,
          9350.393700787401,
          9448.818897637795,
          9547.24409448819,
          9645.669291338583,
          9744.094488188977,
          9842.51968503937,
          9940.944881889764,
          10039.370078740158,
          10137.795275590552,
          10236.220472440946,
          10334.645669291338,
          10433.070866141732,
          10531.496062992126,
          10629.92125984252,
          10728.346456692914,
          10826.771653543308,
          10925.1968503937,
          11023.622047244095,
          11122.047244094489,
          11220.472440944883,
          11318.897637795277,
          11417.322834645669,
          11515.748031496063,
          11614.173228346457,
          11712.598425196851,
          11811.023622047245,
          11909.448818897637,
          12007.874015748032,
          12106.299212598426,
          12198.162729658792
         ]
        },
        {
         "line": {
          "color": "red"
         },
         "name": "PUFF: 0.10",
         "type": "scatter",
         "x": [
          11897.818587084916,
          23795.63717416983,
          35693.45576125475,
          45805.54865597718,
          49604.10339889265,
          53402.65814180812,
          57201.21288472359,
          60999.76762763906,
          64798.32237055453,
          68596.87711347,
          72395.43185638546,
          76193.98659930093,
          78497.7774918385,
          80117.63026067238,
          81737.48302950627,
          83357.33579834015,
          84977.18856717403,
          86597.04133600791,
          88216.8941048418,
          89836.74687367569,
          91456.59964250957,
          93076.45241134346,
          94696.30518017734,
          96316.15794901122,
          97944.89712813057,
          99638.37680611791,
          101398.19729320635,
          103203.38148100958,
          105025.68875749952,
          106796.40650499139,
          108506.11609474132,
          110147.34759194,
          111712.69068603634,
          113194.80844969215,
          114586.45108227919,
          115880.46961320144,
          117071.0202237213,
          118140.86673100495,
          119078.11165399272,
          119880.89336493732,
          120546.6437598737,
          121073.01826492947,
          121485.53249388991,
          121999.43763161162,
          122688.18788693075,
          123567.25314840328,
          124617.3445743659,
          125707.91594539379,
          126824.79975149558,
          127972.00678733103,
          129153.52736276893,
          130373.32399178714,
          131635.32406955445,
          132943.41255069387,
          134298.3232075037,
          135677.84597551872,
          137057.3687435338,
          138436.89151154878,
          139816.41427956388,
          141195.93704757886,
          142575.45981559387,
          143954.98258360886,
          145334.50535162393,
          146714.0281196389,
          148093.55088765395,
          149473.07365566897,
          150852.59642368398,
          152232.119191699,
          153611.64195971403,
          154991.16472772905,
          156370.6874957441,
          157750.2102637591,
          159129.73303177409,
          160509.25579978916,
          161888.77856780417,
          163268.30133581918,
          164647.82410383422,
          166027.34687184924,
          167406.86963986425,
          168786.3924078793,
          170165.9151758943,
          171545.43794390935,
          172924.96071192442,
          174304.4834799394,
          175684.00624795438,
          177063.52901596943,
          178443.05178398447,
          179822.5745519995,
          181202.09732001444,
          182581.6200880295,
          183961.14285604458,
          185340.66562405956,
          186720.1883920746,
          188099.71116008962,
          189479.2339281046,
          190858.75669611967,
          192238.27946413457,
          193617.80223214967,
          194997.3250001647,
          196376.84776817972,
          197756.3705361947,
          199135.89330420972,
          200515.41607222473,
          201894.93884023975,
          203274.46160825476,
          204653.9843762697,
          206033.50714428475,
          207413.02991229974,
          208792.55268031475,
          210172.07544832974,
          211551.5982163448,
          212931.1209843598,
          214310.6437523748,
          215690.1665203898,
          217069.68928840486,
          218449.21205641987,
          219828.73482443482,
          221208.2575924499,
          222587.7803604648,
          223967.30312847978,
          225346.82589649488,
          226726.34866450983,
          228105.87143252496,
          229393.42601600557
         ],
         "y": [
          98.4251968503937,
          196.8503937007874,
          295.2755905511811,
          393.7007874015748,
          492.12598425196853,
          590.5511811023622,
          688.9763779527559,
          787.4015748031496,
          885.8267716535433,
          984.2519685039371,
          1082.6771653543308,
          1181.1023622047244,
          1279.5275590551182,
          1377.9527559055118,
          1476.3779527559057,
          1574.8031496062993,
          1673.2283464566929,
          1771.6535433070867,
          1870.0787401574803,
          1968.5039370078741,
          2066.929133858268,
          2165.3543307086616,
          2263.779527559055,
          2362.2047244094488,
          2460.6299212598424,
          2559.0551181102364,
          2657.48031496063,
          2755.9055118110236,
          2854.3307086614172,
          2952.7559055118113,
          3051.181102362205,
          3149.6062992125985,
          3248.031496062992,
          3346.4566929133857,
          3444.88188976378,
          3543.3070866141734,
          3641.732283464567,
          3740.1574803149606,
          3838.5826771653547,
          3937.0078740157483,
          4035.433070866142,
          4133.858267716536,
          4232.283464566929,
          4330.708661417323,
          4429.133858267716,
          4527.55905511811,
          4625.984251968504,
          4724.4094488188975,
          4822.834645669292,
          4921.259842519685,
          5019.685039370079,
          5118.110236220473,
          5216.535433070866,
          5314.96062992126,
          5413.385826771654,
          5511.811023622047,
          5610.236220472441,
          5708.6614173228345,
          5807.086614173229,
          5905.511811023623,
          6003.937007874016,
          6102.36220472441,
          6200.787401574803,
          6299.212598425197,
          6397.637795275591,
          6496.062992125984,
          6594.488188976378,
          6692.913385826771,
          6791.3385826771655,
          6889.76377952756,
          6988.188976377953,
          7086.614173228347,
          7185.03937007874,
          7283.464566929134,
          7381.889763779528,
          7480.314960629921,
          7578.740157480315,
          7677.165354330709,
          7775.5905511811025,
          7874.0157480314965,
          7972.44094488189,
          8070.866141732284,
          8169.291338582678,
          8267.716535433072,
          8366.141732283464,
          8464.566929133858,
          8562.992125984252,
          8661.417322834646,
          8759.84251968504,
          8858.267716535433,
          8956.692913385827,
          9055.11811023622,
          9153.543307086615,
          9251.968503937009,
          9350.393700787401,
          9448.818897637795,
          9547.24409448819,
          9645.669291338583,
          9744.094488188977,
          9842.51968503937,
          9940.944881889764,
          10039.370078740158,
          10137.795275590552,
          10236.220472440946,
          10334.645669291338,
          10433.070866141732,
          10531.496062992126,
          10629.92125984252,
          10728.346456692914,
          10826.771653543308,
          10925.1968503937,
          11023.622047244095,
          11122.047244094489,
          11220.472440944883,
          11318.897637795277,
          11417.322834645669,
          11515.748031496063,
          11614.173228346457,
          11712.598425196851,
          11811.023622047245,
          11909.448818897637,
          12007.874015748032,
          12106.299212598426,
          12198.162729658792
         ]
        },
        {
         "line": {
          "color": "red",
          "dash": "dashdot"
         },
         "name": "PUFF: 0.20",
         "type": "scatter",
         "x": [
          11897.818587084916,
          23795.63717416983,
          35693.45576125475,
          45805.54865597718,
          49604.10339889265,
          53402.65814180812,
          57201.21288472359,
          60999.76762763906,
          64798.32237055453,
          68596.87711347,
          72395.43185638546,
          76193.98659930093,
          78497.7774918385,
          80117.63026067238,
          81737.48302950627,
          83357.33579834015,
          84977.18856717403,
          86597.04133600791,
          88216.8941048418,
          89836.74687367569,
          91456.59964250957,
          93076.45241134346,
          94696.30518017734,
          96316.15794901122,
          97954.39881734231,
          99734.87879098851,
          101683.35641390849,
          103780.05530063987,
          105990.1120403011,
          108185.98157450196,
          110355.7585299692,
          112490.96089856766,
          114583.0275074653,
          116623.33251596223,
          118603.20027649598,
          120513.92053848434,
          122349.47464932,
          124079.01935127306,
          125679.08257979715,
          127146.82476670925,
          128477.2991067847,
          129665.72918849601,
          130746.84628077123,
          131879.75620108776,
          133111.60697183048,
          134456.64582127068,
          135897.57397831668,
          137353.8798822541,
          138818.58082266344,
          140296.13551960906,
          141791.0541477964,
          143307.89086387632,
          144851.23612633612,
          146425.7088186814,
          148027.93461271338,
          149647.99580746738,
          151268.05700222132,
          152888.11819697535,
          154508.17939172933,
          156128.24058648327,
          157748.3017812373,
          159368.36297599127,
          160988.42417074525,
          162608.48536549922,
          164228.5465602532,
          165848.6077550072,
          167468.66894976114,
          169088.73014451517,
          170708.79133926914,
          172328.8525340231,
          173948.9137287771,
          175568.97492353112,
          177189.03611828506,
          178809.09731303906,
          180429.158507793,
          182049.21970254698,
          183669.28089730098,
          185289.342092055,
          186909.40328680896,
          188529.46448156296,
          190149.52567631693,
          191769.5868710709,
          193389.64806582488,
          195009.70926057888,
          196629.7704553329,
          198249.8316500868,
          199869.89284484083,
          201489.95403959474,
          203110.01523434883,
          204730.07642910277,
          206350.13762385672,
          207970.19881861066,
          209590.26001336478,
          211210.32120811875,
          212830.38240287267,
          214450.4435976267,
          216070.5047923806,
          217690.56598713464,
          219310.62718188867,
          220930.68837664262,
          222550.74957139656,
          224170.81076615056,
          225790.87196090462,
          227410.9331556585,
          229030.99435041254,
          230651.05554516654,
          232271.11673992052,
          233891.17793467452,
          235511.23912942843,
          237131.3003241824,
          238751.3615189365,
          240371.42271369047,
          241991.4839084445,
          243611.54510319847,
          245231.60629795244,
          246851.66749270656,
          248471.7286874605,
          250091.78988221448,
          251711.8510769685,
          253331.91227172257,
          254951.97346647657,
          256572.0346612306,
          258192.09585598457,
          259704.15297108825
         ],
         "y": [
          98.4251968503937,
          196.8503937007874,
          295.2755905511811,
          393.7007874015748,
          492.12598425196853,
          590.5511811023622,
          688.9763779527559,
          787.4015748031496,
          885.8267716535433,
          984.2519685039371,
          1082.6771653543308,
          1181.1023622047244,
          1279.5275590551182,
          1377.9527559055118,
          1476.3779527559057,
          1574.8031496062993,
          1673.2283464566929,
          1771.6535433070867,
          1870.0787401574803,
          1968.5039370078741,
          2066.929133858268,
          2165.3543307086616,
          2263.779527559055,
          2362.2047244094488,
          2460.6299212598424,
          2559.0551181102364,
          2657.48031496063,
          2755.9055118110236,
          2854.3307086614172,
          2952.7559055118113,
          3051.181102362205,
          3149.6062992125985,
          3248.031496062992,
          3346.4566929133857,
          3444.88188976378,
          3543.3070866141734,
          3641.732283464567,
          3740.1574803149606,
          3838.5826771653547,
          3937.0078740157483,
          4035.433070866142,
          4133.858267716536,
          4232.283464566929,
          4330.708661417323,
          4429.133858267716,
          4527.55905511811,
          4625.984251968504,
          4724.4094488188975,
          4822.834645669292,
          4921.259842519685,
          5019.685039370079,
          5118.110236220473,
          5216.535433070866,
          5314.96062992126,
          5413.385826771654,
          5511.811023622047,
          5610.236220472441,
          5708.6614173228345,
          5807.086614173229,
          5905.511811023623,
          6003.937007874016,
          6102.36220472441,
          6200.787401574803,
          6299.212598425197,
          6397.637795275591,
          6496.062992125984,
          6594.488188976378,
          6692.913385826771,
          6791.3385826771655,
          6889.76377952756,
          6988.188976377953,
          7086.614173228347,
          7185.03937007874,
          7283.464566929134,
          7381.889763779528,
          7480.314960629921,
          7578.740157480315,
          7677.165354330709,
          7775.5905511811025,
          7874.0157480314965,
          7972.44094488189,
          8070.866141732284,
          8169.291338582678,
          8267.716535433072,
          8366.141732283464,
          8464.566929133858,
          8562.992125984252,
          8661.417322834646,
          8759.84251968504,
          8858.267716535433,
          8956.692913385827,
          9055.11811023622,
          9153.543307086615,
          9251.968503937009,
          9350.393700787401,
          9448.818897637795,
          9547.24409448819,
          9645.669291338583,
          9744.094488188977,
          9842.51968503937,
          9940.944881889764,
          10039.370078740158,
          10137.795275590552,
          10236.220472440946,
          10334.645669291338,
          10433.070866141732,
          10531.496062992126,
          10629.92125984252,
          10728.346456692914,
          10826.771653543308,
          10925.1968503937,
          11023.622047244095,
          11122.047244094489,
          11220.472440944883,
          11318.897637795277,
          11417.322834645669,
          11515.748031496063,
          11614.173228346457,
          11712.598425196851,
          11811.023622047245,
          11909.448818897637,
          12007.874015748032,
          12106.299212598426,
          12198.162729658792
         ]
        },
        {
         "line": {
          "color": "red",
          "dash": "dash"
         },
         "name": "PUFF: 0.30",
         "type": "scatter",
         "x": [
          11897.818587084916,
          23795.63717416983,
          35693.45576125475,
          45805.54865597718,
          49604.10339889265,
          53402.65814180812,
          57201.21288472359,
          60999.76762763906,
          64798.32237055453,
          68596.87711347,
          72395.43185638546,
          76193.98659930093,
          78497.7774918385,
          80117.63026067238,
          81737.48302950627,
          83357.33579834015,
          84977.18856717403,
          86597.04133600791,
          88216.8941048418,
          89836.74687367569,
          91456.59964250957,
          93076.45241134346,
          94696.30518017734,
          96316.15794901122,
          97963.90050655406,
          99831.66975164587,
          101970.51081299546,
          104363.14804173195,
          106969.7681165133,
          109604.42003248872,
          112253.48374507067,
          114907.93496663932,
          117558.51007292669,
          120195.71805068706,
          122809.85319062458,
          125391.00851978968,
          127933.66918883043,
          130393.45301606074,
          132734.82624282673,
          134954.37111309642,
          137044.68112006623,
          138998.41328171623,
          140862.85766220684,
          142724.20609368564,
          144593.7853354891,
          146482.378888362,
          148373.3524387945,
          150250.35736097494,
          152115.2249733456,
          153972.63849701622,
          155827.41441860714,
          157684.4965020593,
          159548.94940103337,
          161425.9518741932,
          163305.70164251787,
          165195.19467925583,
          167084.6877159939,
          168974.18075273186,
          170863.67378946985,
          172753.16682620783,
          174642.6598629458,
          176532.1528996838,
          178421.64593642182,
          180311.13897315983,
          182200.6320098978,
          184090.1250466358,
          185979.61808337388,
          187869.11112011177,
          189758.60415684976,
          191648.0971935878,
          193537.59023032576,
          195427.08326706372,
          197316.57630380176,
          199206.06934053975,
          201095.5623772778,
          202985.05541401572,
          204874.54845075376,
          206764.04148749178,
          208653.53452422982,
          210543.02756096778,
          212432.52059770573,
          214322.01363444375,
          216211.50667118176,
          218100.99970791978,
          219990.49274465773,
          221879.98578139578,
          223769.4788181337,
          225658.97185487178,
          227548.46489160985,
          229437.9579283478,
          231327.4509650858,
          233216.9440018238,
          235106.43703856182,
          236995.93007529987,
          238885.4231120379,
          240774.9161487759,
          242664.409185514,
          244553.90222225204,
          246443.39525899006,
          248332.8882957281,
          250222.38133246615,
          252111.87436920425,
          254001.36740594223,
          255890.86044268034,
          257780.35347941832,
          259669.8465161564,
          261559.33955289444,
          263448.8325896324,
          265338.32562637056,
          267227.81866310857,
          269117.3116998466,
          271006.8047365846,
          272896.29777332273,
          274785.79081006075,
          276675.2838467987,
          278564.77688353683,
          280454.2699202748,
          282343.7629570128,
          284233.2559937508,
          286122.74903048895,
          288012.2420672268,
          289901.73510396486,
          291791.2281407029,
          293554.75497499167
         ],
         "y": [
          98.4251968503937,
          196.8503937007874,
          295.2755905511811,
          393.7007874015748,
          492.12598425196853,
          590.5511811023622,
          688.9763779527559,
          787.4015748031496,
          885.8267716535433,
          984.2519685039371,
          1082.6771653543308,
          1181.1023622047244,
          1279.5275590551182,
          1377.9527559055118,
          1476.3779527559057,
          1574.8031496062993,
          1673.2283464566929,
          1771.6535433070867,
          1870.0787401574803,
          1968.5039370078741,
          2066.929133858268,
          2165.3543307086616,
          2263.779527559055,
          2362.2047244094488,
          2460.6299212598424,
          2559.0551181102364,
          2657.48031496063,
          2755.9055118110236,
          2854.3307086614172,
          2952.7559055118113,
          3051.181102362205,
          3149.6062992125985,
          3248.031496062992,
          3346.4566929133857,
          3444.88188976378,
          3543.3070866141734,
          3641.732283464567,
          3740.1574803149606,
          3838.5826771653547,
          3937.0078740157483,
          4035.433070866142,
          4133.858267716536,
          4232.283464566929,
          4330.708661417323,
          4429.133858267716,
          4527.55905511811,
          4625.984251968504,
          4724.4094488188975,
          4822.834645669292,
          4921.259842519685,
          5019.685039370079,
          5118.110236220473,
          5216.535433070866,
          5314.96062992126,
          5413.385826771654,
          5511.811023622047,
          5610.236220472441,
          5708.6614173228345,
          5807.086614173229,
          5905.511811023623,
          6003.937007874016,
          6102.36220472441,
          6200.787401574803,
          6299.212598425197,
          6397.637795275591,
          6496.062992125984,
          6594.488188976378,
          6692.913385826771,
          6791.3385826771655,
          6889.76377952756,
          6988.188976377953,
          7086.614173228347,
          7185.03937007874,
          7283.464566929134,
          7381.889763779528,
          7480.314960629921,
          7578.740157480315,
          7677.165354330709,
          7775.5905511811025,
          7874.0157480314965,
          7972.44094488189,
          8070.866141732284,
          8169.291338582678,
          8267.716535433072,
          8366.141732283464,
          8464.566929133858,
          8562.992125984252,
          8661.417322834646,
          8759.84251968504,
          8858.267716535433,
          8956.692913385827,
          9055.11811023622,
          9153.543307086615,
          9251.968503937009,
          9350.393700787401,
          9448.818897637795,
          9547.24409448819,
          9645.669291338583,
          9744.094488188977,
          9842.51968503937,
          9940.944881889764,
          10039.370078740158,
          10137.795275590552,
          10236.220472440946,
          10334.645669291338,
          10433.070866141732,
          10531.496062992126,
          10629.92125984252,
          10728.346456692914,
          10826.771653543308,
          10925.1968503937,
          11023.622047244095,
          11122.047244094489,
          11220.472440944883,
          11318.897637795277,
          11417.322834645669,
          11515.748031496063,
          11614.173228346457,
          11712.598425196851,
          11811.023622047245,
          11909.448818897637,
          12007.874015748032,
          12106.299212598426,
          12198.162729658792
         ]
        },
        {
         "line": {
          "color": "red",
          "dash": "dot"
         },
         "name": "PUFF: 0.40",
         "type": "scatter",
         "x": [
          11897.818587084916,
          23795.63717416983,
          35693.45576125475,
          45805.54865597718,
          49604.10339889265,
          53402.65814180812,
          57201.21288472359,
          60999.76762763906,
          64798.32237055453,
          68596.87711347,
          72395.43185638546,
          76193.98659930093,
          78497.7774918385,
          80117.63026067238,
          81737.48302950627,
          83357.33579834015,
          84977.18856717403,
          86597.04133600791,
          88216.8941048418,
          89836.74687367569,
          91456.59964250957,
          93076.45241134346,
          94696.30518017734,
          96316.15794901122,
          97973.40219576578,
          99928.74968808994,
          102259.66738608641,
          104952.70697503026,
          107964.84123143282,
          111052.19142669487,
          114200.29062191733,
          117400.13957931832,
          120642.32670377065,
          123917.03360750261,
          127214.04170779746,
          130522.7398789977,
          133838.9904259355,
          137105.05007321315,
          140272.87483559872,
          143339.0827230782,
          146293.86551993163,
          149127.31396896337,
          151903.35356452496,
          154615.94998132956,
          157229.45961166982,
          159748.45149327483,
          162155.23447429156,
          164514.02239408097,
          166837.29892135548,
          169129.70273072892,
          171396.09376207346,
          173641.55062938933,
          175871.36748794044,
          178091.0503478019,
          180281.42777478736,
          182472.1342723644,
          184662.84076994157,
          186853.54726751868,
          189044.2537650958,
          191234.9602626729,
          193425.66676025,
          195616.3732578271,
          197807.07975540424,
          199997.78625298137,
          202188.49275055848,
          204379.19924813556,
          206569.90574571275,
          208760.61224328974,
          210951.31874086693,
          213142.0252384441,
          215332.73173602115,
          217523.4382335983,
          219714.1447311754,
          221904.85122875246,
          224095.55772632963,
          226286.26422390674,
          228476.9707214838,
          230667.67721906095,
          232858.38371663808,
          235049.0902142152,
          237239.79671179233,
          239430.50320936946,
          241621.20970694668,
          243811.91620452367,
          246002.6227021008,
          248193.32919967797,
          250384.0356972551,
          252574.74219483222,
          254765.4486924094,
          256956.15518998646,
          259146.86168756362,
          261337.56818514082,
          263528.27468271786,
          265718.9811802951,
          267909.68767787225,
          270100.3941754494,
          272291.1006730265,
          274481.80717060354,
          276672.51366818073,
          278863.22016575775,
          281053.9266633349,
          283244.633160912,
          285435.33965848904,
          287626.0461560662,
          289816.7526536433,
          292007.45915122033,
          294198.1656487976,
          296388.8721463746,
          298579.5786439517,
          300770.28514152876,
          302960.99163910584,
          305151.698136683,
          307342.4046342601,
          309533.11113183707,
          311723.8176294142,
          313914.5241269914,
          316105.2306245684,
          318295.93712214555,
          320486.64361972257,
          322677.3501172997,
          324868.05661487684,
          327058.763112454,
          329249.46961003105,
          331294.12900776963
         ],
         "y": [
          98.4251968503937,
          196.8503937007874,
          295.2755905511811,
          393.7007874015748,
          492.12598425196853,
          590.5511811023622,
          688.9763779527559,
          787.4015748031496,
          885.8267716535433,
          984.2519685039371,
          1082.6771653543308,
          1181.1023622047244,
          1279.5275590551182,
          1377.9527559055118,
          1476.3779527559057,
          1574.8031496062993,
          1673.2283464566929,
          1771.6535433070867,
          1870.0787401574803,
          1968.5039370078741,
          2066.929133858268,
          2165.3543307086616,
          2263.779527559055,
          2362.2047244094488,
          2460.6299212598424,
          2559.0551181102364,
          2657.48031496063,
          2755.9055118110236,
          2854.3307086614172,
          2952.7559055118113,
          3051.181102362205,
          3149.6062992125985,
          3248.031496062992,
          3346.4566929133857,
          3444.88188976378,
          3543.3070866141734,
          3641.732283464567,
          3740.1574803149606,
          3838.5826771653547,
          3937.0078740157483,
          4035.433070866142,
          4133.858267716536,
          4232.283464566929,
          4330.708661417323,
          4429.133858267716,
          4527.55905511811,
          4625.984251968504,
          4724.4094488188975,
          4822.834645669292,
          4921.259842519685,
          5019.685039370079,
          5118.110236220473,
          5216.535433070866,
          5314.96062992126,
          5413.385826771654,
          5511.811023622047,
          5610.236220472441,
          5708.6614173228345,
          5807.086614173229,
          5905.511811023623,
          6003.937007874016,
          6102.36220472441,
          6200.787401574803,
          6299.212598425197,
          6397.637795275591,
          6496.062992125984,
          6594.488188976378,
          6692.913385826771,
          6791.3385826771655,
          6889.76377952756,
          6988.188976377953,
          7086.614173228347,
          7185.03937007874,
          7283.464566929134,
          7381.889763779528,
          7480.314960629921,
          7578.740157480315,
          7677.165354330709,
          7775.5905511811025,
          7874.0157480314965,
          7972.44094488189,
          8070.866141732284,
          8169.291338582678,
          8267.716535433072,
          8366.141732283464,
          8464.566929133858,
          8562.992125984252,
          8661.417322834646,
          8759.84251968504,
          8858.267716535433,
          8956.692913385827,
          9055.11811023622,
          9153.543307086615,
          9251.968503937009,
          9350.393700787401,
          9448.818897637795,
          9547.24409448819,
          9645.669291338583,
          9744.094488188977,
          9842.51968503937,
          9940.944881889764,
          10039.370078740158,
          10137.795275590552,
          10236.220472440946,
          10334.645669291338,
          10433.070866141732,
          10531.496062992126,
          10629.92125984252,
          10728.346456692914,
          10826.771653543308,
          10925.1968503937,
          11023.622047244095,
          11122.047244094489,
          11220.472440944883,
          11318.897637795277,
          11417.322834645669,
          11515.748031496063,
          11614.173228346457,
          11712.598425196851,
          11811.023622047245,
          11909.448818897637,
          12007.874015748032,
          12106.299212598426,
          12198.162729658792
         ]
        }
       ],
       "layout": {
        "annotations": [
         {
          "font": {
           "color": "blue"
          },
          "showarrow": false,
          "text": "0.10",
          "x": 178134.74770817132,
          "xanchor": "center",
          "y": 12198.162729658792,
          "yanchor": "top"
         },
         {
          "font": {
           "color": "blue"
          },
          "showarrow": false,
          "text": "0.20",
          "x": 156621.65853027557,
          "xanchor": "center",
          "y": 12198.162729658792,
          "yanchor": "top"
         },
         {
          "font": {
           "color": "blue"
          },
          "showarrow": false,
          "text": "0.30",
          "x": 137514.43237885085,
          "xanchor": "center",
          "y": 12198.162729658792,
          "yanchor": "top"
         },
         {
          "font": {
           "color": "blue"
          },
          "showarrow": false,
          "text": "0.40",
          "x": 120585.60236027867,
          "xanchor": "center",
          "y": 12198.162729658792,
          "yanchor": "top"
         },
         {
          "font": {
           "color": "red"
          },
          "showarrow": false,
          "text": "0.10",
          "x": 229393.42601600557,
          "xanchor": "center",
          "y": 12198.162729658792,
          "yanchor": "top"
         },
         {
          "font": {
           "color": "red"
          },
          "showarrow": false,
          "text": "0.20",
          "x": 259704.15297108825,
          "xanchor": "center",
          "y": 12198.162729658792,
          "yanchor": "top"
         },
         {
          "font": {
           "color": "red"
          },
          "showarrow": false,
          "text": "0.30",
          "x": 293554.75497499167,
          "xanchor": "center",
          "y": 12198.162729658792,
          "yanchor": "top"
         },
         {
          "font": {
           "color": "red"
          },
          "showarrow": false,
          "text": "0.40",
          "x": 331294.12900776963,
          "xanchor": "center",
          "y": 12198.162729658792,
          "yanchor": "top"
         }
        ],
        "template": {
         "data": {
          "bar": [
           {
            "error_x": {
             "color": "#2a3f5f"
            },
            "error_y": {
             "color": "#2a3f5f"
            },
            "marker": {
             "line": {
              "color": "#E5ECF6",
              "width": 0.5
             },
             "pattern": {
              "fillmode": "overlay",
              "size": 10,
              "solidity": 0.2
             }
            },
            "type": "bar"
           }
          ],
          "barpolar": [
           {
            "marker": {
             "line": {
              "color": "#E5ECF6",
              "width": 0.5
             },
             "pattern": {
              "fillmode": "overlay",
              "size": 10,
              "solidity": 0.2
             }
            },
            "type": "barpolar"
           }
          ],
          "carpet": [
           {
            "aaxis": {
             "endlinecolor": "#2a3f5f",
             "gridcolor": "white",
             "linecolor": "white",
             "minorgridcolor": "white",
             "startlinecolor": "#2a3f5f"
            },
            "baxis": {
             "endlinecolor": "#2a3f5f",
             "gridcolor": "white",
             "linecolor": "white",
             "minorgridcolor": "white",
             "startlinecolor": "#2a3f5f"
            },
            "type": "carpet"
           }
          ],
          "choropleth": [
           {
            "colorbar": {
             "outlinewidth": 0,
             "ticks": ""
            },
            "type": "choropleth"
           }
          ],
          "contour": [
           {
            "colorbar": {
             "outlinewidth": 0,
             "ticks": ""
            },
            "colorscale": [
             [
              0,
              "#0d0887"
             ],
             [
              0.1111111111111111,
              "#46039f"
             ],
             [
              0.2222222222222222,
              "#7201a8"
             ],
             [
              0.3333333333333333,
              "#9c179e"
             ],
             [
              0.4444444444444444,
              "#bd3786"
             ],
             [
              0.5555555555555556,
              "#d8576b"
             ],
             [
              0.6666666666666666,
              "#ed7953"
             ],
             [
              0.7777777777777778,
              "#fb9f3a"
             ],
             [
              0.8888888888888888,
              "#fdca26"
             ],
             [
              1,
              "#f0f921"
             ]
            ],
            "type": "contour"
           }
          ],
          "contourcarpet": [
           {
            "colorbar": {
             "outlinewidth": 0,
             "ticks": ""
            },
            "type": "contourcarpet"
           }
          ],
          "heatmap": [
           {
            "colorbar": {
             "outlinewidth": 0,
             "ticks": ""
            },
            "colorscale": [
             [
              0,
              "#0d0887"
             ],
             [
              0.1111111111111111,
              "#46039f"
             ],
             [
              0.2222222222222222,
              "#7201a8"
             ],
             [
              0.3333333333333333,
              "#9c179e"
             ],
             [
              0.4444444444444444,
              "#bd3786"
             ],
             [
              0.5555555555555556,
              "#d8576b"
             ],
             [
              0.6666666666666666,
              "#ed7953"
             ],
             [
              0.7777777777777778,
              "#fb9f3a"
             ],
             [
              0.8888888888888888,
              "#fdca26"
             ],
             [
              1,
              "#f0f921"
             ]
            ],
            "type": "heatmap"
           }
          ],
          "heatmapgl": [
           {
            "colorbar": {
             "outlinewidth": 0,
             "ticks": ""
            },
            "colorscale": [
             [
              0,
              "#0d0887"
             ],
             [
              0.1111111111111111,
              "#46039f"
             ],
             [
              0.2222222222222222,
              "#7201a8"
             ],
             [
              0.3333333333333333,
              "#9c179e"
             ],
             [
              0.4444444444444444,
              "#bd3786"
             ],
             [
              0.5555555555555556,
              "#d8576b"
             ],
             [
              0.6666666666666666,
              "#ed7953"
             ],
             [
              0.7777777777777778,
              "#fb9f3a"
             ],
             [
              0.8888888888888888,
              "#fdca26"
             ],
             [
              1,
              "#f0f921"
             ]
            ],
            "type": "heatmapgl"
           }
          ],
          "histogram": [
           {
            "marker": {
             "pattern": {
              "fillmode": "overlay",
              "size": 10,
              "solidity": 0.2
             }
            },
            "type": "histogram"
           }
          ],
          "histogram2d": [
           {
            "colorbar": {
             "outlinewidth": 0,
             "ticks": ""
            },
            "colorscale": [
             [
              0,
              "#0d0887"
             ],
             [
              0.1111111111111111,
              "#46039f"
             ],
             [
              0.2222222222222222,
              "#7201a8"
             ],
             [
              0.3333333333333333,
              "#9c179e"
             ],
             [
              0.4444444444444444,
              "#bd3786"
             ],
             [
              0.5555555555555556,
              "#d8576b"
             ],
             [
              0.6666666666666666,
              "#ed7953"
             ],
             [
              0.7777777777777778,
              "#fb9f3a"
             ],
             [
              0.8888888888888888,
              "#fdca26"
             ],
             [
              1,
              "#f0f921"
             ]
            ],
            "type": "histogram2d"
           }
          ],
          "histogram2dcontour": [
           {
            "colorbar": {
             "outlinewidth": 0,
             "ticks": ""
            },
            "colorscale": [
             [
              0,
              "#0d0887"
             ],
             [
              0.1111111111111111,
              "#46039f"
             ],
             [
              0.2222222222222222,
              "#7201a8"
             ],
             [
              0.3333333333333333,
              "#9c179e"
             ],
             [
              0.4444444444444444,
              "#bd3786"
             ],
             [
              0.5555555555555556,
              "#d8576b"
             ],
             [
              0.6666666666666666,
              "#ed7953"
             ],
             [
              0.7777777777777778,
              "#fb9f3a"
             ],
             [
              0.8888888888888888,
              "#fdca26"
             ],
             [
              1,
              "#f0f921"
             ]
            ],
            "type": "histogram2dcontour"
           }
          ],
          "mesh3d": [
           {
            "colorbar": {
             "outlinewidth": 0,
             "ticks": ""
            },
            "type": "mesh3d"
           }
          ],
          "parcoords": [
           {
            "line": {
             "colorbar": {
              "outlinewidth": 0,
              "ticks": ""
             }
            },
            "type": "parcoords"
           }
          ],
          "pie": [
           {
            "automargin": true,
            "type": "pie"
           }
          ],
          "scatter": [
           {
            "fillpattern": {
             "fillmode": "overlay",
             "size": 10,
             "solidity": 0.2
            },
            "type": "scatter"
           }
          ],
          "scatter3d": [
           {
            "line": {
             "colorbar": {
              "outlinewidth": 0,
              "ticks": ""
             }
            },
            "marker": {
             "colorbar": {
              "outlinewidth": 0,
              "ticks": ""
             }
            },
            "type": "scatter3d"
           }
          ],
          "scattercarpet": [
           {
            "marker": {
             "colorbar": {
              "outlinewidth": 0,
              "ticks": ""
             }
            },
            "type": "scattercarpet"
           }
          ],
          "scattergeo": [
           {
            "marker": {
             "colorbar": {
              "outlinewidth": 0,
              "ticks": ""
             }
            },
            "type": "scattergeo"
           }
          ],
          "scattergl": [
           {
            "marker": {
             "colorbar": {
              "outlinewidth": 0,
              "ticks": ""
             }
            },
            "type": "scattergl"
           }
          ],
          "scattermapbox": [
           {
            "marker": {
             "colorbar": {
              "outlinewidth": 0,
              "ticks": ""
             }
            },
            "type": "scattermapbox"
           }
          ],
          "scatterpolar": [
           {
            "marker": {
             "colorbar": {
              "outlinewidth": 0,
              "ticks": ""
             }
            },
            "type": "scatterpolar"
           }
          ],
          "scatterpolargl": [
           {
            "marker": {
             "colorbar": {
              "outlinewidth": 0,
              "ticks": ""
             }
            },
            "type": "scatterpolargl"
           }
          ],
          "scatterternary": [
           {
            "marker": {
             "colorbar": {
              "outlinewidth": 0,
              "ticks": ""
             }
            },
            "type": "scatterternary"
           }
          ],
          "surface": [
           {
            "colorbar": {
             "outlinewidth": 0,
             "ticks": ""
            },
            "colorscale": [
             [
              0,
              "#0d0887"
             ],
             [
              0.1111111111111111,
              "#46039f"
             ],
             [
              0.2222222222222222,
              "#7201a8"
             ],
             [
              0.3333333333333333,
              "#9c179e"
             ],
             [
              0.4444444444444444,
              "#bd3786"
             ],
             [
              0.5555555555555556,
              "#d8576b"
             ],
             [
              0.6666666666666666,
              "#ed7953"
             ],
             [
              0.7777777777777778,
              "#fb9f3a"
             ],
             [
              0.8888888888888888,
              "#fdca26"
             ],
             [
              1,
              "#f0f921"
             ]
            ],
            "type": "surface"
           }
          ],
          "table": [
           {
            "cells": {
             "fill": {
              "color": "#EBF0F8"
             },
             "line": {
              "color": "white"
             }
            },
            "header": {
             "fill": {
              "color": "#C8D4E3"
             },
             "line": {
              "color": "white"
             }
            },
            "type": "table"
           }
          ]
         },
         "layout": {
          "annotationdefaults": {
           "arrowcolor": "#2a3f5f",
           "arrowhead": 0,
           "arrowwidth": 1
          },
          "autotypenumbers": "strict",
          "coloraxis": {
           "colorbar": {
            "outlinewidth": 0,
            "ticks": ""
           }
          },
          "colorscale": {
           "diverging": [
            [
             0,
             "#8e0152"
            ],
            [
             0.1,
             "#c51b7d"
            ],
            [
             0.2,
             "#de77ae"
            ],
            [
             0.3,
             "#f1b6da"
            ],
            [
             0.4,
             "#fde0ef"
            ],
            [
             0.5,
             "#f7f7f7"
            ],
            [
             0.6,
             "#e6f5d0"
            ],
            [
             0.7,
             "#b8e186"
            ],
            [
             0.8,
             "#7fbc41"
            ],
            [
             0.9,
             "#4d9221"
            ],
            [
             1,
             "#276419"
            ]
           ],
           "sequential": [
            [
             0,
             "#0d0887"
            ],
            [
             0.1111111111111111,
             "#46039f"
            ],
            [
             0.2222222222222222,
             "#7201a8"
            ],
            [
             0.3333333333333333,
             "#9c179e"
            ],
            [
             0.4444444444444444,
             "#bd3786"
            ],
            [
             0.5555555555555556,
             "#d8576b"
            ],
            [
             0.6666666666666666,
             "#ed7953"
            ],
            [
             0.7777777777777778,
             "#fb9f3a"
            ],
            [
             0.8888888888888888,
             "#fdca26"
            ],
            [
             1,
             "#f0f921"
            ]
           ],
           "sequentialminus": [
            [
             0,
             "#0d0887"
            ],
            [
             0.1111111111111111,
             "#46039f"
            ],
            [
             0.2222222222222222,
             "#7201a8"
            ],
            [
             0.3333333333333333,
             "#9c179e"
            ],
            [
             0.4444444444444444,
             "#bd3786"
            ],
            [
             0.5555555555555556,
             "#d8576b"
            ],
            [
             0.6666666666666666,
             "#ed7953"
            ],
            [
             0.7777777777777778,
             "#fb9f3a"
            ],
            [
             0.8888888888888888,
             "#fdca26"
            ],
            [
             1,
             "#f0f921"
            ]
           ]
          },
          "colorway": [
           "#636efa",
           "#EF553B",
           "#00cc96",
           "#ab63fa",
           "#FFA15A",
           "#19d3f3",
           "#FF6692",
           "#B6E880",
           "#FF97FF",
           "#FECB52"
          ],
          "font": {
           "color": "#2a3f5f"
          },
          "geo": {
           "bgcolor": "white",
           "lakecolor": "white",
           "landcolor": "#E5ECF6",
           "showlakes": true,
           "showland": true,
           "subunitcolor": "white"
          },
          "hoverlabel": {
           "align": "left"
          },
          "hovermode": "closest",
          "mapbox": {
           "style": "light"
          },
          "paper_bgcolor": "white",
          "plot_bgcolor": "#E5ECF6",
          "polar": {
           "angularaxis": {
            "gridcolor": "white",
            "linecolor": "white",
            "ticks": ""
           },
           "bgcolor": "#E5ECF6",
           "radialaxis": {
            "gridcolor": "white",
            "linecolor": "white",
            "ticks": ""
           }
          },
          "scene": {
           "xaxis": {
            "backgroundcolor": "#E5ECF6",
            "gridcolor": "white",
            "gridwidth": 2,
            "linecolor": "white",
            "showbackground": true,
            "ticks": "",
            "zerolinecolor": "white"
           },
           "yaxis": {
            "backgroundcolor": "#E5ECF6",
            "gridcolor": "white",
            "gridwidth": 2,
            "linecolor": "white",
            "showbackground": true,
            "ticks": "",
            "zerolinecolor": "white"
           },
           "zaxis": {
            "backgroundcolor": "#E5ECF6",
            "gridcolor": "white",
            "gridwidth": 2,
            "linecolor": "white",
            "showbackground": true,
            "ticks": "",
            "zerolinecolor": "white"
           }
          },
          "shapedefaults": {
           "line": {
            "color": "#2a3f5f"
           }
          },
          "ternary": {
           "aaxis": {
            "gridcolor": "white",
            "linecolor": "white",
            "ticks": ""
           },
           "baxis": {
            "gridcolor": "white",
            "linecolor": "white",
            "ticks": ""
           },
           "bgcolor": "#E5ECF6",
           "caxis": {
            "gridcolor": "white",
            "linecolor": "white",
            "ticks": ""
           }
          },
          "title": {
           "x": 0.05
          },
          "xaxis": {
           "automargin": true,
           "gridcolor": "white",
           "linecolor": "white",
           "ticks": "",
           "title": {
            "standoff": 15
           },
           "zerolinecolor": "white",
           "zerolinewidth": 2
          },
          "yaxis": {
           "automargin": true,
           "gridcolor": "white",
           "linecolor": "white",
           "ticks": "",
           "title": {
            "standoff": 15
           },
           "zerolinecolor": "white",
           "zerolinewidth": 2
          }
         }
        },
        "title": {
         "text": "<b>wellbore:</b> production 9 5/8\" casing to 8470ft and 8 1/2\" OH to 12198ft<br><b>string:</b> 6 1/2\" DC (372ft) and 5\" HWDP (840ft) and 5\" DP to surface"
        },
        "xaxis": {
         "title": {
          "text": "Hook-Load (lbf)"
         }
        },
        "yaxis": {
         "autorange": "reversed",
         "exponentformat": "none",
         "title": {
          "text": "MD (ft)"
         }
        }
       }
      }
     },
     "metadata": {},
     "output_type": "display_data"
    }
   ],
   "source": [
    "hookload = we.torque_drag.HookLoad(\n",
    "    survey=survey_example_2, wellbore=wellbore, string=bha,\n",
    "    fluid_density=11.6 / 8.33, step=30,\n",
    "    name='8 1/2\" Hole Section', ff_range=(0.1, 0.4, 0.1)\n",
    ")\n",
    "\n",
    "\n",
    "hookload.figure().show()\n"
   ]
  },
  {
   "cell_type": "code",
   "execution_count": 52,
   "metadata": {},
   "outputs": [],
   "source": [
    "\n",
    "# Weight on Bit wob, Torque on Bottom/Bit tob and the overpull, all in Newtons\n",
    "\n",
    "t_and_d = we.torque_drag.TorqueDrag(\n",
    "    survey=survey_example_2, wellbore=wellbore, string=bha,\n",
    "    fluid_density=9.8 / 8.33,\n",
    "    wob=10000, tob=(2000 * 1.356), overpull=50000,\n",
    "    name='8 1/2\" Hole Section'\n",
    ")\n"
   ]
  },
  {
   "cell_type": "code",
   "execution_count": 55,
   "metadata": {},
   "outputs": [
    {
     "name": "stdout",
     "output_type": "stream",
     "text": [
      "['__class__', '__delattr__', '__dict__', '__dir__', '__doc__', '__eq__', '__format__', '__ge__', '__getattribute__', '__getstate__', '__gt__', '__hash__', '__init__', '__init_subclass__', '__le__', '__lt__', '__module__', '__ne__', '__new__', '__reduce__', '__reduce_ex__', '__repr__', '__setattr__', '__sizeof__', '__str__', '__subclasshook__', '__weakref__', 'add_survey_points_from_strings', 'azi_delta', 'coeff_friction_sliding', 'figure', 'fluid_density', 'get_azi_delta', 'get_buoyancy_factors', 'get_characteristic_od', 'get_coeff_friction_sliding', 'get_forces_and_torsion', 'get_inc_average', 'get_inc_delta', 'get_weight_buoyed_and_radius', 'inc_average', 'inc_delta', 'index', 'name', 'overpull', 'radius', 'string', 'survey', 'survey_original', 'tension', 'tob', 'torque', 'weight_buoyed', 'wellbore', 'wob']\n"
     ]
    }
   ],
   "source": [
    "print(dir(t_and_d))\n"
   ]
  },
  {
   "cell_type": "code",
   "execution_count": 69,
   "metadata": {},
   "outputs": [
    {
     "ename": "DimensionalityError",
     "evalue": "Cannot convert from 'number_meter' ([length] / [mass]) to 'ft_lbf' ([length] ** 2 * [mass] / [time] ** 2)",
     "output_type": "error",
     "traceback": [
      "\u001b[1;31m---------------------------------------------------------------------------\u001b[0m",
      "\u001b[1;31mDimensionalityError\u001b[0m                       Traceback (most recent call last)",
      "Cell \u001b[1;32mIn[69], line 1\u001b[0m\n\u001b[1;32m----> 1\u001b[0m \u001b[43mt_and_d\u001b[49m\u001b[38;5;241;43m.\u001b[39;49m\u001b[43mfigure\u001b[49m\u001b[43m(\u001b[49m\u001b[43m)\u001b[49m\u001b[38;5;241m.\u001b[39mshow()\n",
      "File \u001b[1;32mc:\\Users\\gaoqian\\AppData\\Local\\Programs\\Python\\Python312\\Lib\\site-packages\\welleng\\torque_drag.py:250\u001b[0m, in \u001b[0;36mTorqueDrag.figure\u001b[1;34m(self)\u001b[0m\n\u001b[0;32m    249\u001b[0m \u001b[38;5;28;01mdef\u001b[39;00m \u001b[38;5;21mfigure\u001b[39m(\u001b[38;5;28mself\u001b[39m):\n\u001b[1;32m--> 250\u001b[0m     \u001b[38;5;28;01mreturn\u001b[39;00m \u001b[43mfigure_string_tension_and_torque\u001b[49m\u001b[43m(\u001b[49m\u001b[38;5;28;43mself\u001b[39;49m\u001b[43m)\u001b[49m\n",
      "File \u001b[1;32mc:\\Users\\gaoqian\\AppData\\Local\\Programs\\Python\\Python312\\Lib\\site-packages\\welleng\\torque_drag.py:416\u001b[0m, in \u001b[0;36mfigure_string_tension_and_torque\u001b[1;34m(td, units)\u001b[0m\n\u001b[0;32m    404\u001b[0m     fig\u001b[38;5;241m.\u001b[39madd_trace(\n\u001b[0;32m    405\u001b[0m         go\u001b[38;5;241m.\u001b[39mScatter(\n\u001b[0;32m    406\u001b[0m             x\u001b[38;5;241m=\u001b[39m((v \u001b[38;5;241m*\u001b[39m ureg(\u001b[38;5;124m'\u001b[39m\u001b[38;5;124mN\u001b[39m\u001b[38;5;124m'\u001b[39m))\u001b[38;5;241m.\u001b[39mto(units[\u001b[38;5;124m'\u001b[39m\u001b[38;5;124mtension\u001b[39m\u001b[38;5;124m'\u001b[39m]))\u001b[38;5;241m.\u001b[39mm,\n\u001b[1;32m   (...)\u001b[0m\n\u001b[0;32m    410\u001b[0m         row\u001b[38;5;241m=\u001b[39m\u001b[38;5;241m1\u001b[39m, col\u001b[38;5;241m=\u001b[39m\u001b[38;5;241m1\u001b[39m\n\u001b[0;32m    411\u001b[0m     )\n\u001b[0;32m    413\u001b[0m \u001b[38;5;28;01mfor\u001b[39;00m k, v, \u001b[38;5;129;01min\u001b[39;00m td\u001b[38;5;241m.\u001b[39mtorque\u001b[38;5;241m.\u001b[39mitems():\n\u001b[0;32m    414\u001b[0m     fig\u001b[38;5;241m.\u001b[39madd_trace(\n\u001b[0;32m    415\u001b[0m         go\u001b[38;5;241m.\u001b[39mScatter(\n\u001b[1;32m--> 416\u001b[0m             x\u001b[38;5;241m=\u001b[39m(\u001b[43m(\u001b[49m\u001b[43mv\u001b[49m\u001b[43m \u001b[49m\u001b[38;5;241;43m*\u001b[39;49m\u001b[43m \u001b[49m\u001b[43mureg\u001b[49m\u001b[43m(\u001b[49m\u001b[38;5;124;43m'\u001b[39;49m\u001b[38;5;124;43mNm\u001b[39;49m\u001b[38;5;124;43m'\u001b[39;49m\u001b[43m)\u001b[49m\u001b[43m)\u001b[49m\u001b[38;5;241;43m.\u001b[39;49m\u001b[43mto\u001b[49m\u001b[43m(\u001b[49m\u001b[43munits\u001b[49m\u001b[43m[\u001b[49m\u001b[38;5;124;43m'\u001b[39;49m\u001b[38;5;124;43mtorque\u001b[39;49m\u001b[38;5;124;43m'\u001b[39;49m\u001b[43m]\u001b[49m\u001b[43m)\u001b[49m)\u001b[38;5;241m.\u001b[39mm,\n\u001b[0;32m    417\u001b[0m             y\u001b[38;5;241m=\u001b[39m((td\u001b[38;5;241m.\u001b[39msurvey\u001b[38;5;241m.\u001b[39mmd \u001b[38;5;241m*\u001b[39m ureg\u001b[38;5;241m.\u001b[39mmeters)\u001b[38;5;241m.\u001b[39mto(units[\u001b[38;5;124m'\u001b[39m\u001b[38;5;124mdepth\u001b[39m\u001b[38;5;124m'\u001b[39m]))\u001b[38;5;241m.\u001b[39mm,\n\u001b[0;32m    418\u001b[0m             name\u001b[38;5;241m=\u001b[39m\u001b[38;5;124mf\u001b[39m\u001b[38;5;124m\"\u001b[39m\u001b[38;5;124mtorque: \u001b[39m\u001b[38;5;132;01m{\u001b[39;00mk\u001b[38;5;132;01m}\u001b[39;00m\u001b[38;5;124m\"\u001b[39m,\n\u001b[0;32m    419\u001b[0m         ),\n\u001b[0;32m    420\u001b[0m         row\u001b[38;5;241m=\u001b[39m\u001b[38;5;241m1\u001b[39m, col\u001b[38;5;241m=\u001b[39m\u001b[38;5;241m2\u001b[39m\n\u001b[0;32m    421\u001b[0m     )\n\u001b[0;32m    423\u001b[0m fig\u001b[38;5;241m.\u001b[39mupdate_layout(\n\u001b[0;32m    424\u001b[0m     title_text\u001b[38;5;241m=\u001b[39m(\n\u001b[0;32m    425\u001b[0m         \u001b[38;5;124mf\u001b[39m\u001b[38;5;124m\"\u001b[39m\u001b[38;5;124m<b>wellbore:</b> \u001b[39m\u001b[38;5;132;01m{\u001b[39;00mtd\u001b[38;5;241m.\u001b[39mwellbore\u001b[38;5;241m.\u001b[39mname\u001b[38;5;132;01m}\u001b[39;00m\u001b[38;5;124m<br>\u001b[39m\u001b[38;5;124m\"\u001b[39m\n\u001b[1;32m   (...)\u001b[0m\n\u001b[0;32m    443\u001b[0m     )\n\u001b[0;32m    444\u001b[0m )\n\u001b[0;32m    446\u001b[0m \u001b[38;5;28;01mreturn\u001b[39;00m fig\n",
      "File \u001b[1;32mc:\\Users\\gaoqian\\AppData\\Local\\Programs\\Python\\Python312\\Lib\\site-packages\\pint\\facets\\plain\\quantity.py:528\u001b[0m, in \u001b[0;36mPlainQuantity.to\u001b[1;34m(self, other, *contexts, **ctx_kwargs)\u001b[0m\n\u001b[0;32m    511\u001b[0m \u001b[38;5;250m\u001b[39m\u001b[38;5;124;03m\"\"\"Return PlainQuantity rescaled to different units.\u001b[39;00m\n\u001b[0;32m    512\u001b[0m \n\u001b[0;32m    513\u001b[0m \u001b[38;5;124;03mParameters\u001b[39;00m\n\u001b[1;32m   (...)\u001b[0m\n\u001b[0;32m    524\u001b[0m \u001b[38;5;124;03mpint.PlainQuantity\u001b[39;00m\n\u001b[0;32m    525\u001b[0m \u001b[38;5;124;03m\"\"\"\u001b[39;00m\n\u001b[0;32m    526\u001b[0m other \u001b[38;5;241m=\u001b[39m to_units_container(other, \u001b[38;5;28mself\u001b[39m\u001b[38;5;241m.\u001b[39m_REGISTRY)\n\u001b[1;32m--> 528\u001b[0m magnitude \u001b[38;5;241m=\u001b[39m \u001b[38;5;28;43mself\u001b[39;49m\u001b[38;5;241;43m.\u001b[39;49m\u001b[43m_convert_magnitude_not_inplace\u001b[49m\u001b[43m(\u001b[49m\u001b[43mother\u001b[49m\u001b[43m,\u001b[49m\u001b[43m \u001b[49m\u001b[38;5;241;43m*\u001b[39;49m\u001b[43mcontexts\u001b[49m\u001b[43m,\u001b[49m\u001b[43m \u001b[49m\u001b[38;5;241;43m*\u001b[39;49m\u001b[38;5;241;43m*\u001b[39;49m\u001b[43mctx_kwargs\u001b[49m\u001b[43m)\u001b[49m\n\u001b[0;32m    530\u001b[0m \u001b[38;5;28;01mreturn\u001b[39;00m \u001b[38;5;28mself\u001b[39m\u001b[38;5;241m.\u001b[39m\u001b[38;5;18m__class__\u001b[39m(magnitude, other)\n",
      "File \u001b[1;32mc:\\Users\\gaoqian\\AppData\\Local\\Programs\\Python\\Python312\\Lib\\site-packages\\pint\\facets\\plain\\quantity.py:472\u001b[0m, in \u001b[0;36mPlainQuantity._convert_magnitude_not_inplace\u001b[1;34m(self, other, *contexts, **ctx_kwargs)\u001b[0m\n\u001b[0;32m    469\u001b[0m     \u001b[38;5;28;01mwith\u001b[39;00m \u001b[38;5;28mself\u001b[39m\u001b[38;5;241m.\u001b[39m_REGISTRY\u001b[38;5;241m.\u001b[39mcontext(\u001b[38;5;241m*\u001b[39mcontexts, \u001b[38;5;241m*\u001b[39m\u001b[38;5;241m*\u001b[39mctx_kwargs):\n\u001b[0;32m    470\u001b[0m         \u001b[38;5;28;01mreturn\u001b[39;00m \u001b[38;5;28mself\u001b[39m\u001b[38;5;241m.\u001b[39m_REGISTRY\u001b[38;5;241m.\u001b[39mconvert(\u001b[38;5;28mself\u001b[39m\u001b[38;5;241m.\u001b[39m_magnitude, \u001b[38;5;28mself\u001b[39m\u001b[38;5;241m.\u001b[39m_units, other)\n\u001b[1;32m--> 472\u001b[0m \u001b[38;5;28;01mreturn\u001b[39;00m \u001b[38;5;28;43mself\u001b[39;49m\u001b[38;5;241;43m.\u001b[39;49m\u001b[43m_REGISTRY\u001b[49m\u001b[38;5;241;43m.\u001b[39;49m\u001b[43mconvert\u001b[49m\u001b[43m(\u001b[49m\u001b[38;5;28;43mself\u001b[39;49m\u001b[38;5;241;43m.\u001b[39;49m\u001b[43m_magnitude\u001b[49m\u001b[43m,\u001b[49m\u001b[43m \u001b[49m\u001b[38;5;28;43mself\u001b[39;49m\u001b[38;5;241;43m.\u001b[39;49m\u001b[43m_units\u001b[49m\u001b[43m,\u001b[49m\u001b[43m \u001b[49m\u001b[43mother\u001b[49m\u001b[43m)\u001b[49m\n",
      "File \u001b[1;32mc:\\Users\\gaoqian\\AppData\\Local\\Programs\\Python\\Python312\\Lib\\site-packages\\pint\\facets\\plain\\registry.py:1028\u001b[0m, in \u001b[0;36mGenericPlainRegistry.convert\u001b[1;34m(self, value, src, dst, inplace)\u001b[0m\n\u001b[0;32m   1025\u001b[0m \u001b[38;5;28;01mif\u001b[39;00m src \u001b[38;5;241m==\u001b[39m dst:\n\u001b[0;32m   1026\u001b[0m     \u001b[38;5;28;01mreturn\u001b[39;00m value\n\u001b[1;32m-> 1028\u001b[0m \u001b[38;5;28;01mreturn\u001b[39;00m \u001b[38;5;28;43mself\u001b[39;49m\u001b[38;5;241;43m.\u001b[39;49m\u001b[43m_convert\u001b[49m\u001b[43m(\u001b[49m\u001b[43mvalue\u001b[49m\u001b[43m,\u001b[49m\u001b[43m \u001b[49m\u001b[43msrc\u001b[49m\u001b[43m,\u001b[49m\u001b[43m \u001b[49m\u001b[43mdst\u001b[49m\u001b[43m,\u001b[49m\u001b[43m \u001b[49m\u001b[43minplace\u001b[49m\u001b[43m)\u001b[49m\n",
      "File \u001b[1;32mc:\\Users\\gaoqian\\AppData\\Local\\Programs\\Python\\Python312\\Lib\\site-packages\\pint\\facets\\context\\registry.py:404\u001b[0m, in \u001b[0;36mGenericContextRegistry._convert\u001b[1;34m(self, value, src, dst, inplace)\u001b[0m\n\u001b[0;32m    400\u001b[0m             src \u001b[38;5;241m=\u001b[39m \u001b[38;5;28mself\u001b[39m\u001b[38;5;241m.\u001b[39m_active_ctx\u001b[38;5;241m.\u001b[39mtransform(a, b, \u001b[38;5;28mself\u001b[39m, src)\n\u001b[0;32m    402\u001b[0m         value, src \u001b[38;5;241m=\u001b[39m src\u001b[38;5;241m.\u001b[39m_magnitude, src\u001b[38;5;241m.\u001b[39m_units\n\u001b[1;32m--> 404\u001b[0m \u001b[38;5;28;01mreturn\u001b[39;00m \u001b[38;5;28;43msuper\u001b[39;49m\u001b[43m(\u001b[49m\u001b[43m)\u001b[49m\u001b[38;5;241;43m.\u001b[39;49m\u001b[43m_convert\u001b[49m\u001b[43m(\u001b[49m\u001b[43mvalue\u001b[49m\u001b[43m,\u001b[49m\u001b[43m \u001b[49m\u001b[43msrc\u001b[49m\u001b[43m,\u001b[49m\u001b[43m \u001b[49m\u001b[43mdst\u001b[49m\u001b[43m,\u001b[49m\u001b[43m \u001b[49m\u001b[43minplace\u001b[49m\u001b[43m)\u001b[49m\n",
      "File \u001b[1;32mc:\\Users\\gaoqian\\AppData\\Local\\Programs\\Python\\Python312\\Lib\\site-packages\\pint\\facets\\nonmultiplicative\\registry.py:254\u001b[0m, in \u001b[0;36mGenericNonMultiplicativeRegistry._convert\u001b[1;34m(self, value, src, dst, inplace)\u001b[0m\n\u001b[0;32m    249\u001b[0m     \u001b[38;5;28;01mraise\u001b[39;00m DimensionalityError(\n\u001b[0;32m    250\u001b[0m         src, dst, extra_msg\u001b[38;5;241m=\u001b[39m\u001b[38;5;124mf\u001b[39m\u001b[38;5;124m\"\u001b[39m\u001b[38;5;124m - In destination units, \u001b[39m\u001b[38;5;132;01m{\u001b[39;00mex\u001b[38;5;132;01m}\u001b[39;00m\u001b[38;5;124m\"\u001b[39m\n\u001b[0;32m    251\u001b[0m     )\n\u001b[0;32m    253\u001b[0m \u001b[38;5;28;01mif\u001b[39;00m \u001b[38;5;129;01mnot\u001b[39;00m (src_offset_unit \u001b[38;5;129;01mor\u001b[39;00m dst_offset_unit):\n\u001b[1;32m--> 254\u001b[0m     \u001b[38;5;28;01mreturn\u001b[39;00m \u001b[38;5;28;43msuper\u001b[39;49m\u001b[43m(\u001b[49m\u001b[43m)\u001b[49m\u001b[38;5;241;43m.\u001b[39;49m\u001b[43m_convert\u001b[49m\u001b[43m(\u001b[49m\u001b[43mvalue\u001b[49m\u001b[43m,\u001b[49m\u001b[43m \u001b[49m\u001b[43msrc\u001b[49m\u001b[43m,\u001b[49m\u001b[43m \u001b[49m\u001b[43mdst\u001b[49m\u001b[43m,\u001b[49m\u001b[43m \u001b[49m\u001b[43minplace\u001b[49m\u001b[43m)\u001b[49m\n\u001b[0;32m    256\u001b[0m src_dim \u001b[38;5;241m=\u001b[39m \u001b[38;5;28mself\u001b[39m\u001b[38;5;241m.\u001b[39m_get_dimensionality(src)\n\u001b[0;32m    257\u001b[0m dst_dim \u001b[38;5;241m=\u001b[39m \u001b[38;5;28mself\u001b[39m\u001b[38;5;241m.\u001b[39m_get_dimensionality(dst)\n",
      "File \u001b[1;32mc:\\Users\\gaoqian\\AppData\\Local\\Programs\\Python\\Python312\\Lib\\site-packages\\pint\\facets\\plain\\registry.py:1063\u001b[0m, in \u001b[0;36mGenericPlainRegistry._convert\u001b[1;34m(self, value, src, dst, inplace, check_dimensionality)\u001b[0m\n\u001b[0;32m   1060\u001b[0m factor \u001b[38;5;241m=\u001b[39m \u001b[38;5;28mself\u001b[39m\u001b[38;5;241m.\u001b[39m_get_conversion_factor(src, dst)\n\u001b[0;32m   1062\u001b[0m \u001b[38;5;28;01mif\u001b[39;00m \u001b[38;5;28misinstance\u001b[39m(factor, DimensionalityError):\n\u001b[1;32m-> 1063\u001b[0m     \u001b[38;5;28;01mraise\u001b[39;00m factor\n\u001b[0;32m   1065\u001b[0m \u001b[38;5;66;03m# factor is type float and if our magnitude is type Decimal then\u001b[39;00m\n\u001b[0;32m   1066\u001b[0m \u001b[38;5;66;03m# must first convert to Decimal before we can '*' the values\u001b[39;00m\n\u001b[0;32m   1067\u001b[0m \u001b[38;5;28;01mif\u001b[39;00m \u001b[38;5;28misinstance\u001b[39m(value, Decimal):\n",
      "\u001b[1;31mDimensionalityError\u001b[0m: Cannot convert from 'number_meter' ([length] / [mass]) to 'ft_lbf' ([length] ** 2 * [mass] / [time] ** 2)"
     ]
    }
   ],
   "source": [
    "t_and_d.figure().show()"
   ]
  }
 ],
 "metadata": {
  "kernelspec": {
   "display_name": "Python 3",
   "language": "python",
   "name": "python3"
  },
  "language_info": {
   "codemirror_mode": {
    "name": "ipython",
    "version": 3
   },
   "file_extension": ".py",
   "mimetype": "text/x-python",
   "name": "python",
   "nbconvert_exporter": "python",
   "pygments_lexer": "ipython3",
   "version": "3.12.2"
  }
 },
 "nbformat": 4,
 "nbformat_minor": 2
}
